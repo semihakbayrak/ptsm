{
 "cells": [
  {
   "cell_type": "code",
   "execution_count": 1,
   "metadata": {},
   "outputs": [],
   "source": [
    "import numpy as np\n",
    "import matplotlib.pyplot as plt\n",
    "from lds import LDS\n",
    "\n",
    "import os, sys\n",
    "parentPath = os.path.abspath(\"..\")\n",
    "if parentPath not in sys.path:\n",
    "    sys.path.insert(0, parentPath)\n",
    "import utils"
   ]
  },
  {
   "cell_type": "markdown",
   "metadata": {},
   "source": [
    "A 2D surface parallel to earth. Noisy observations are positions $x_{x}$, $x_{y}$. Hidden variables are true position values and velocities $v_{x}$, $v_{y}$. We assume constant velocity for this example."
   ]
  },
  {
   "cell_type": "markdown",
   "metadata": {},
   "source": [
    "$x_{x}(t+1) = x_{x}(t) + v_{x}(t) + \\eta_{x_{x}}(t)$\n",
    "\n",
    "$v_{x}(t+1)$ = $v_{x}(t) + \\eta_{v_x}(t)$"
   ]
  },
  {
   "cell_type": "markdown",
   "metadata": {},
   "source": [
    "$x_{y}(t+1) = x_{y}(t) + v_{y}(t) + \\eta_{x_{y}}(t)$\n",
    "\n",
    "$v_{y}(t+1)$ = $v_{y}(t) + \\eta_{v_y}(t)$"
   ]
  },
  {
   "cell_type": "code",
   "execution_count": 2,
   "metadata": {},
   "outputs": [],
   "source": [
    "A = np.array([[1,1],[0,1]])\n",
    "B = np.array([[1,0]])\n",
    "pi_m = np.array([0,0.5])\n",
    "S = 2\n",
    "O = 1\n",
    "pi_s = np.eye(S)\n",
    "E_h = np.eye(S)*0.2\n",
    "E_o = np.eye(O)*0.2"
   ]
  },
  {
   "cell_type": "code",
   "execution_count": 3,
   "metadata": {},
   "outputs": [],
   "source": [
    "lds = LDS(A,B,pi_m,pi_s,S,O,E_h,E_o)"
   ]
  },
  {
   "cell_type": "code",
   "execution_count": 4,
   "metadata": {},
   "outputs": [],
   "source": [
    "states,observations = lds.generate_data(10)"
   ]
  },
  {
   "cell_type": "code",
   "execution_count": 5,
   "metadata": {},
   "outputs": [
    {
     "name": "stdout",
     "output_type": "stream",
     "text": [
      "[array([0.3600328 , 1.28498918]), array([1.20058807, 0.72689165]), array([3.02189972, 0.81766151]), array([4.18668072, 0.30415283]), array([4.30788446, 0.74515673]), array([5.24256705, 0.57052896]), array([6.34176575, 0.76915709]), array([6.54282881, 1.0113413 ]), array([7.65287068, 0.65534718]), array([8.31625696, 0.58379709])]\n"
     ]
    }
   ],
   "source": [
    "print states"
   ]
  },
  {
   "cell_type": "code",
   "execution_count": 6,
   "metadata": {},
   "outputs": [
    {
     "name": "stdout",
     "output_type": "stream",
     "text": [
      "[array([[0.35207804]]), array([[1.36757462]]), array([[3.24749077]]), array([[4.27539071]]), array([[4.55755081]]), array([[5.32906724]]), array([[5.81747111]]), array([[6.71309585]]), array([[7.64024371]]), array([[8.52018818]])]\n"
     ]
    }
   ],
   "source": [
    "print observations"
   ]
  },
  {
   "cell_type": "code",
   "execution_count": 7,
   "metadata": {},
   "outputs": [
    {
     "data": {
      "image/png": "[encoded data removed]",
      "text/plain": [
       "<Figure size 432x288 with 1 Axes>"
      ]
     },
     "metadata": {
      "needs_background": "light"
     },
     "output_type": "display_data"
    }
   ],
   "source": [
    "cc = 0\n",
    "for obs, state in zip(observations, states):\n",
    "    plt.plot(cc,obs[0],'ro')\n",
    "    plt.plot(cc,state[0],'kx')\n",
    "    cc += 1\n",
    "plt.show()"
   ]
  },
  {
   "cell_type": "code",
   "execution_count": 8,
   "metadata": {},
   "outputs": [],
   "source": [
    "f,F = lds.filtering(observations)"
   ]
  },
  {
   "cell_type": "code",
   "execution_count": 9,
   "metadata": {},
   "outputs": [
    {
     "name": "stdout",
     "output_type": "stream",
     "text": [
      "[array([[0.36440487],\n",
      "       [0.43836585]]), array([[1.29390454],\n",
      "       [0.75760283]]), array([[3.0625656 ],\n",
      "       [1.31840848]]), array([[4.2935055 ],\n",
      "       [1.27286272]]), array([[4.73604062],\n",
      "       [0.84588709]]), array([[5.37407722],\n",
      "       [0.73914312]]), array([[5.87015682],\n",
      "       [0.61431384]]), array([[6.67236556],\n",
      "       [0.71081262]]), array([[7.59444664],\n",
      "       [0.81931568]]), array([[8.50122805],\n",
      "       [0.86423619]])]\n"
     ]
    }
   ],
   "source": [
    "print f"
   ]
  },
  {
   "cell_type": "code",
   "execution_count": 10,
   "metadata": {},
   "outputs": [
    {
     "data": {
      "image/png": "[encoded data removed]",
      "text/plain": [
       "<Figure size 432x288 with 1 Axes>"
      ]
     },
     "metadata": {
      "needs_background": "light"
     },
     "output_type": "display_data"
    }
   ],
   "source": [
    "for i in range(len(observations)):\n",
    "    plt.plot(i,observations[i][0],'ro')\n",
    "    plt.plot(i,f[i][0],'bx')\n",
    "plt.show()"
   ]
  },
  {
   "cell_type": "code",
   "execution_count": 11,
   "metadata": {},
   "outputs": [],
   "source": [
    "h,H = lds.smoothing(observations)"
   ]
  },
  {
   "cell_type": "code",
   "execution_count": 12,
   "metadata": {},
   "outputs": [
    {
     "name": "stdout",
     "output_type": "stream",
     "text": [
      "[array([[0.47639251],\n",
      "       [1.06012221]]), array([[1.58906684],\n",
      "       [1.16072575]]), array([[3.02383692],\n",
      "       [0.98728495]]), array([[4.06151238],\n",
      "       [0.76345365]]), array([[4.6614782 ],\n",
      "       [0.70311016]]), array([[5.30502793],\n",
      "       [0.70232711]]), array([[5.9237553],\n",
      "       [0.7851438]]), array([[6.73158354],\n",
      "       [0.84527606]]), array([[7.61803172],\n",
      "       [0.86423619]]), array([[8.50122805],\n",
      "       [0.86423619]])]\n"
     ]
    }
   ],
   "source": [
    "print h"
   ]
  },
  {
   "cell_type": "code",
   "execution_count": 13,
   "metadata": {},
   "outputs": [
    {
     "data": {
      "image/png": "[encoded data removed]",
      "text/plain": [
       "<Figure size 432x288 with 1 Axes>"
      ]
     },
     "metadata": {
      "needs_background": "light"
     },
     "output_type": "display_data"
    }
   ],
   "source": [
    "for i in range(len(observations)):\n",
    "    plt.plot(i,observations[i][0],'ro')\n",
    "    plt.plot(i,h[i][0],'gx')\n",
    "plt.show()"
   ]
  },
  {
   "cell_type": "code",
   "execution_count": 14,
   "metadata": {},
   "outputs": [
    {
     "data": {
      "text/plain": [
       "10"
      ]
     },
     "execution_count": 14,
     "metadata": {},
     "output_type": "execute_result"
    }
   ],
   "source": [
    "len(h)"
   ]
  },
  {
   "cell_type": "code",
   "execution_count": 15,
   "metadata": {},
   "outputs": [],
   "source": [
    "A, B, pi_m, pi_s, E_h, E_o, h_list, H_list = lds.EM(observations,estimate=['A','B','pi_m','pi_s'],num_iterations=40)"
   ]
  },
  {
   "cell_type": "code",
   "execution_count": 16,
   "metadata": {},
   "outputs": [
    {
     "data": {
      "text/plain": [
       "10"
      ]
     },
     "execution_count": 16,
     "metadata": {},
     "output_type": "execute_result"
    }
   ],
   "source": [
    "len(h_list)"
   ]
  },
  {
   "cell_type": "code",
   "execution_count": 17,
   "metadata": {},
   "outputs": [
    {
     "data": {
      "image/png": "[encoded data removed]",
      "text/plain": [
       "<Figure size 432x288 with 1 Axes>"
      ]
     },
     "metadata": {
      "needs_background": "light"
     },
     "output_type": "display_data"
    }
   ],
   "source": [
    "for i in range(len(observations)):\n",
    "    plt.plot(i,observations[i][0],'ro')\n",
    "    plt.plot(i,h_list[i][0],'gx')\n",
    "plt.show()"
   ]
  },
  {
   "cell_type": "code",
   "execution_count": 18,
   "metadata": {},
   "outputs": [
    {
     "data": {
      "text/plain": [
       "array([[1.01072457, 0.25198378],\n",
       "       [0.19811954, 0.7231363 ]])"
      ]
     },
     "execution_count": 18,
     "metadata": {},
     "output_type": "execute_result"
    }
   ],
   "source": [
    "A"
   ]
  },
  {
   "cell_type": "code",
   "execution_count": 19,
   "metadata": {},
   "outputs": [
    {
     "data": {
      "text/plain": [
       "array([[1.54793005],\n",
       "       [2.29264026]])"
      ]
     },
     "execution_count": 19,
     "metadata": {},
     "output_type": "execute_result"
    }
   ],
   "source": [
    "pi_m"
   ]
  },
  {
   "cell_type": "code",
   "execution_count": 20,
   "metadata": {},
   "outputs": [
    {
     "data": {
      "text/plain": [
       "array([[0.0859926 , 0.07873228],\n",
       "       [0.07873228, 0.23958155]])"
      ]
     },
     "execution_count": 20,
     "metadata": {},
     "output_type": "execute_result"
    }
   ],
   "source": [
    "pi_s"
   ]
  },
  {
   "cell_type": "code",
   "execution_count": 21,
   "metadata": {},
   "outputs": [
    {
     "data": {
      "text/plain": [
       "array([[ 1.42088331, -0.66306963]])"
      ]
     },
     "execution_count": 21,
     "metadata": {},
     "output_type": "execute_result"
    }
   ],
   "source": [
    "B"
   ]
  },
  {
   "cell_type": "code",
   "execution_count": null,
   "metadata": {},
   "outputs": [],
   "source": []
  }
 ],
 "metadata": {
  "kernelspec": {
   "display_name": "Python 2",
   "language": "python",
   "name": "python2"
  },
  "language_info": {
   "codemirror_mode": {
    "name": "ipython",
    "version": 2
   },
   "file_extension": ".py",
   "mimetype": "text/x-python",
   "name": "python",
   "nbconvert_exporter": "python",
   "pygments_lexer": "ipython2",
   "version": "2.7.15"
  }
 },
 "nbformat": 4,
 "nbformat_minor": 2
}
