{
 "cells": [
  {
   "cell_type": "code",
   "execution_count": 1,
   "metadata": {},
   "outputs": [],
   "source": [
    "import numpy as np\n",
    "import matplotlib.pyplot as plt\n",
    "from lds import LDS\n",
    "\n",
    "import os, sys\n",
    "parentPath = os.path.abspath(\"..\")\n",
    "if parentPath not in sys.path:\n",
    "    sys.path.insert(0, parentPath)\n",
    "import utils"
   ]
  },
  {
   "cell_type": "markdown",
   "metadata": {},
   "source": [
    "A 2D surface parallel to earth. Noisy observations are positions $x_{x}$, $x_{y}$. Hidden variables are true position values and velocities $v_{x}$, $v_{y}$. We assume constant velocity for this example."
   ]
  },
  {
   "cell_type": "markdown",
   "metadata": {},
   "source": [
    "$x_{x}(t+1) = x_{x}(t) + v_{x}(t) + \\eta_{x_{x}}(t)$\n",
    "\n",
    "$v_{x}(t+1)$ = $v_{x}(t) + \\eta_{v_x}(t)$"
   ]
  },
  {
   "cell_type": "markdown",
   "metadata": {},
   "source": [
    "$x_{y}(t+1) = x_{y}(t) + v_{y}(t) + \\eta_{x_{y}}(t)$\n",
    "\n",
    "$v_{y}(t+1)$ = $v_{y}(t) + \\eta_{v_y}(t)$"
   ]
  },
  {
   "cell_type": "code",
   "execution_count": 2,
   "metadata": {},
   "outputs": [],
   "source": [
    "A = np.array([[1,1,0,0],[0,1,0,0],[0,0,1,1],[0,0,0,1]])\n",
    "B = np.array([[1,0,0,0],[0,0,1,0]])\n",
    "pi_m = np.array([0,0.8,0,-0.3])\n",
    "S = 4\n",
    "O = 2\n",
    "pi_s = np.eye(S)\n",
    "E_h = np.eye(S)*0.2\n",
    "E_o = np.eye(O)*0.2"
   ]
  },
  {
   "cell_type": "code",
   "execution_count": 3,
   "metadata": {},
   "outputs": [],
   "source": [
    "lds = LDS(A,B,pi_m,pi_s,S,O,E_h,E_o)"
   ]
  },
  {
   "cell_type": "code",
   "execution_count": 4,
   "metadata": {},
   "outputs": [],
   "source": [
    "states,observations = lds.generate_data(10)"
   ]
  },
  {
   "cell_type": "code",
   "execution_count": 5,
   "metadata": {},
   "outputs": [
    {
     "name": "stdout",
     "output_type": "stream",
     "text": [
      "[array([0.66472797, 0.01114438, 1.87771892, 0.83997502]), array([ 0.09533492, -0.27530652,  2.07686532,  0.99433998]), array([-0.22314164, -0.03972409,  2.56474064,  2.16031252]), array([-0.61130195,  0.43815932,  5.25771077,  2.51806319]), array([0.33857876, 1.07774877, 7.66329373, 2.45799168]), array([ 1.74638635,  2.26008484, 10.11970753,  2.06668355]), array([ 4.02146906,  2.46083337, 12.10217268,  1.53458684]), array([ 6.16674077,  2.11689625, 13.82857362,  1.94606639]), array([ 8.13749377,  1.82166421, 16.01683242,  2.15730443]), array([10.35270865,  1.33349973, 18.7683797 ,  2.33834977])]\n"
     ]
    }
   ],
   "source": [
    "print states"
   ]
  },
  {
   "cell_type": "code",
   "execution_count": 6,
   "metadata": {},
   "outputs": [
    {
     "name": "stdout",
     "output_type": "stream",
     "text": [
      "[array([0.76222794, 1.97022043]), array([-0.26041493,  3.12479851]), array([-0.32910947,  2.15526802]), array([-0.61250343,  5.96467176]), array([0.17631519, 7.54756103]), array([ 1.48796602, 10.42904077]), array([ 3.90046014, 12.60697647]), array([ 6.21237031, 13.19461641]), array([ 7.93131186, 15.50051275]), array([10.98966333, 18.06623638])]\n"
     ]
    }
   ],
   "source": [
    "print observations"
   ]
  },
  {
   "cell_type": "code",
   "execution_count": 7,
   "metadata": {},
   "outputs": [
    {
     "data": {
      "image/png": "[encoded data removed]",
      "text/plain": [
       "<Figure size 432x288 with 1 Axes>"
      ]
     },
     "metadata": {
      "needs_background": "light"
     },
     "output_type": "display_data"
    }
   ],
   "source": [
    "for obs, state in zip(observations, states):\n",
    "    plt.plot(obs[0],obs[1],'ro')\n",
    "    plt.plot(state[0],state[2],'kx')\n",
    "plt.show()"
   ]
  },
  {
   "cell_type": "code",
   "execution_count": 8,
   "metadata": {},
   "outputs": [],
   "source": [
    "f,F = lds.filtering(observations)"
   ]
  },
  {
   "cell_type": "code",
   "execution_count": 9,
   "metadata": {},
   "outputs": [
    {
     "name": "stdout",
     "output_type": "stream",
     "text": [
      "[array([[0.38111396],\n",
      "       [0.        ],\n",
      "       [0.98511019],\n",
      "       [0.        ]]), array([[-0.07712095],\n",
      "       [-0.18329397],\n",
      "       [ 2.51345897],\n",
      "       [ 0.61133951]]), array([[-0.31537056],\n",
      "       [-0.21077178],\n",
      "       [ 2.34917412],\n",
      "       [ 0.22352733]]), array([[-0.59684209],\n",
      "       [-0.24701659],\n",
      "       [ 5.3495476 ],\n",
      "       [ 1.64710035]]), array([[-5.82501304e-03],\n",
      "       [ 1.83325020e-01],\n",
      "       [ 7.44920189e+00],\n",
      "       [ 1.87949291e+00]]), array([[ 1.25443259],\n",
      "       [ 0.73637365],\n",
      "       [10.23295208],\n",
      "       [ 2.34386575]]), array([[ 3.56022573],\n",
      "       [ 1.54236907],\n",
      "       [12.60160324],\n",
      "       [ 2.35659462]]), array([[ 6.01465632],\n",
      "       [ 2.01078054],\n",
      "       [13.50881034],\n",
      "       [ 1.61222625]]), array([[ 7.94808063],\n",
      "       [ 1.97105212],\n",
      "       [15.43290744],\n",
      "       [ 1.77239614]]), array([[10.79894433],\n",
      "       [ 2.42290414],\n",
      "       [17.912858  ],\n",
      "       [ 2.13578065]])]\n"
     ]
    }
   ],
   "source": [
    "print f"
   ]
  },
  {
   "cell_type": "code",
   "execution_count": 10,
   "metadata": {},
   "outputs": [
    {
     "data": {
      "image/png": "[encoded data removed]",
      "text/plain": [
       "<Figure size 432x288 with 1 Axes>"
      ]
     },
     "metadata": {
      "needs_background": "light"
     },
     "output_type": "display_data"
    }
   ],
   "source": [
    "for i in range(len(observations)):\n",
    "    plt.plot(observations[i][0],observations[i][1],'ro')\n",
    "    plt.plot(f[i][0],f[i][2],'bx')\n",
    "plt.show()"
   ]
  },
  {
   "cell_type": "code",
   "execution_count": 11,
   "metadata": {},
   "outputs": [],
   "source": [
    "h,H = lds.smoothing(observations)"
   ]
  },
  {
   "cell_type": "code",
   "execution_count": 12,
   "metadata": {},
   "outputs": [
    {
     "name": "stdout",
     "output_type": "stream",
     "text": [
      "[array([[ 0.24937149],\n",
      "       [-0.15792936],\n",
      "       [ 1.18329728],\n",
      "       [ 0.76377581]]), array([[-0.17204283],\n",
      "       [-0.05237378],\n",
      "       [ 2.34344727],\n",
      "       [ 1.13117748]]), array([[-0.39952948],\n",
      "       [ 0.22829468],\n",
      "       [ 3.0896477 ],\n",
      "       [ 1.8835562 ]]), array([[-0.41676768],\n",
      "       [ 0.75449603],\n",
      "       [ 5.52260652],\n",
      "       [ 2.08653233]]), array([[0.28793121],\n",
      "       [1.33049455],\n",
      "       [7.71647622],\n",
      "       [2.18217108]]), array([[ 1.68024462],\n",
      "       [ 1.84467423],\n",
      "       [10.17489986],\n",
      "       [ 2.00155726]]), array([[ 3.77901629],\n",
      "       [ 2.10475649],\n",
      "       [12.1985688 ],\n",
      "       [ 1.79883177]]), array([[ 6.01642638],\n",
      "       [ 2.23218515],\n",
      "       [13.61110457],\n",
      "       [ 1.98240227]]), array([[ 8.18532119],\n",
      "       [ 2.42290414],\n",
      "       [15.62369898],\n",
      "       [ 2.13578065]]), array([[10.79894433],\n",
      "       [ 2.42290414],\n",
      "       [17.912858  ],\n",
      "       [ 2.13578065]])]\n"
     ]
    }
   ],
   "source": [
    "print h"
   ]
  },
  {
   "cell_type": "code",
   "execution_count": 13,
   "metadata": {},
   "outputs": [
    {
     "data": {
      "image/png": "[encoded data removed]",
      "text/plain": [
       "<Figure size 432x288 with 1 Axes>"
      ]
     },
     "metadata": {
      "needs_background": "light"
     },
     "output_type": "display_data"
    }
   ],
   "source": [
    "for i in range(len(observations)):\n",
    "    plt.plot(observations[i][0],observations[i][1],'ro')\n",
    "    plt.plot(h[i][0],h[i][2],'gx')\n",
    "plt.show()"
   ]
  },
  {
   "cell_type": "code",
   "execution_count": 14,
   "metadata": {},
   "outputs": [],
   "source": [
    "A, B, pi_m, pi_s, E_h, E_o, h_list, H_list = lds.EM(observations,estimate=['A','B','pi_m','pi_s'],num_iterations=100)"
   ]
  },
  {
   "cell_type": "code",
   "execution_count": 15,
   "metadata": {},
   "outputs": [
    {
     "data": {
      "image/png": "[encoded data removed]",
      "text/plain": [
       "<Figure size 432x288 with 1 Axes>"
      ]
     },
     "metadata": {
      "needs_background": "light"
     },
     "output_type": "display_data"
    }
   ],
   "source": [
    "for i in range(len(observations)):\n",
    "    plt.plot(observations[i][0],observations[i][1],'ro')\n",
    "    plt.plot(h_list[i][0],h_list[i][2],'kx')\n",
    "plt.show()"
   ]
  },
  {
   "cell_type": "code",
   "execution_count": 16,
   "metadata": {},
   "outputs": [
    {
     "data": {
      "text/plain": [
       "array([[ 0.91233042,  0.52594704,  0.10463233,  0.2112519 ],\n",
       "       [-0.09357623,  0.82803286, -0.00392463,  0.40694562],\n",
       "       [-0.70181836, -0.28874592,  1.66923565, -1.42463201],\n",
       "       [-0.72964234,  0.27325481,  0.50504427, -0.8743016 ]])"
      ]
     },
     "execution_count": 16,
     "metadata": {},
     "output_type": "execute_result"
    }
   ],
   "source": [
    "A"
   ]
  },
  {
   "cell_type": "code",
   "execution_count": null,
   "metadata": {},
   "outputs": [],
   "source": []
  }
 ],
 "metadata": {
  "kernelspec": {
   "display_name": "Python 2",
   "language": "python",
   "name": "python2"
  },
  "language_info": {
   "codemirror_mode": {
    "name": "ipython",
    "version": 2
   },
   "file_extension": ".py",
   "mimetype": "text/x-python",
   "name": "python",
   "nbconvert_exporter": "python",
   "pygments_lexer": "ipython2",
   "version": "2.7.15"
  }
 },
 "nbformat": 4,
 "nbformat_minor": 2
}
