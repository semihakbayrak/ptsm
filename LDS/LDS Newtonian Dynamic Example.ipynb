{
 "cells": [
  {
   "cell_type": "code",
   "execution_count": 1,
   "metadata": {},
   "outputs": [],
   "source": [
    "import numpy as np\n",
    "import matplotlib.pyplot as plt\n",
    "from lds import LDS\n",
    "\n",
    "import os, sys\n",
    "parentPath = os.path.abspath(\"..\")\n",
    "if parentPath not in sys.path:\n",
    "    sys.path.insert(0, parentPath)\n",
    "import utils"
   ]
  },
  {
   "cell_type": "markdown",
   "metadata": {},
   "source": [
    "A 2D surface parallel to earth. Noisy observations are positions $x_{x}$, $x_{y}$. Hidden variables are true position values and velocities $v_{x}$, $v_{y}$. We assume constant velocity for this example."
   ]
  },
  {
   "cell_type": "markdown",
   "metadata": {},
   "source": [
    "$x_{x}(t+1) = x_{x}(t) + v_{x}(t) + \\eta_{x_{x}}(t)$\n",
    "\n",
    "$v_{x}(t+1)$ = $v_{x}(t) + \\eta_{v_x}(t)$"
   ]
  },
  {
   "cell_type": "markdown",
   "metadata": {},
   "source": [
    "$x_{y}(t+1) = x_{y}(t) + v_{y}(t) + \\eta_{x_{y}}(t)$\n",
    "\n",
    "$v_{y}(t+1)$ = $v_{y}(t) + \\eta_{v_y}(t)$"
   ]
  },
  {
   "cell_type": "code",
   "execution_count": 2,
   "metadata": {},
   "outputs": [],
   "source": [
    "A = np.array([[1,1,0,0],[0,1,0,0],[0,0,1,1],[0,0,0,1]])\n",
    "B = np.array([[1,0,0,0],[0,0,1,0]])\n",
    "pi_m = np.array([0,0.8,0,-0.3])\n",
    "S = 4\n",
    "O = 2\n",
    "pi_s = np.eye(S)\n",
    "E_h = np.eye(S)*0.2\n",
    "E_o = np.eye(O)*0.2"
   ]
  },
  {
   "cell_type": "code",
   "execution_count": 3,
   "metadata": {},
   "outputs": [],
   "source": [
    "lds = LDS(A,B,pi_m,pi_s,S,O,E_h,E_o)"
   ]
  },
  {
   "cell_type": "code",
   "execution_count": 4,
   "metadata": {},
   "outputs": [],
   "source": [
    "states,observations = lds.generate_data(10)"
   ]
  },
  {
   "cell_type": "code",
   "execution_count": 5,
   "metadata": {},
   "outputs": [
    {
     "name": "stdout",
     "output_type": "stream",
     "text": [
      "[array([-0.6517628 ,  0.89166822, -0.42792272,  1.45653991]), array([0.79287471, 1.79161165, 1.43959432, 2.14807381]), array([2.96812606, 0.88246992, 3.09171059, 2.76257683]), array([3.79118636, 1.43627714, 5.826368  , 2.82579843]), array([3.98846183, 1.43844794, 8.1862897 , 2.84033734]), array([ 4.87682604,  1.57829541, 10.94683951,  3.12731879]), array([ 6.70131015,  2.19026226, 13.82168401,  3.20639156]), array([ 8.83273329,  2.19626455, 16.85626941,  2.83009248]), array([11.57836645,  2.4421158 , 19.13594633,  2.61528413]), array([13.84187   ,  2.44411176, 22.3127164 ,  2.46739049])]\n"
     ]
    }
   ],
   "source": [
    "print states"
   ]
  },
  {
   "cell_type": "code",
   "execution_count": 6,
   "metadata": {},
   "outputs": [
    {
     "name": "stdout",
     "output_type": "stream",
     "text": [
      "[array([-1.55059875, -0.2550514 ]), array([1.07627253, 1.59995631]), array([2.78421558, 3.41405942]), array([4.39460806, 6.08059767]), array([3.9021583 , 9.00711329]), array([ 4.57010614, 11.46066153]), array([ 6.7595347 , 14.58821754]), array([ 9.099652  , 16.56385658]), array([11.58709064, 19.29855779]), array([13.01962436, 22.13499598])]\n"
     ]
    }
   ],
   "source": [
    "print observations"
   ]
  },
  {
   "cell_type": "code",
   "execution_count": 7,
   "metadata": {},
   "outputs": [
    {
     "data": {
      "image/png": "[encoded data removed]",
      "text/plain": [
       "<Figure size 432x288 with 1 Axes>"
      ]
     },
     "metadata": {
      "needs_background": "light"
     },
     "output_type": "display_data"
    }
   ],
   "source": [
    "for obs, state in zip(observations, states):\n",
    "    plt.plot(obs[0],obs[1],'ro')\n",
    "    plt.plot(state[0],state[2],'kx')\n",
    "plt.show()"
   ]
  },
  {
   "cell_type": "code",
   "execution_count": 8,
   "metadata": {},
   "outputs": [],
   "source": [
    "f,F = lds.filtering(observations)"
   ]
  },
  {
   "cell_type": "code",
   "execution_count": 9,
   "metadata": {},
   "outputs": [
    {
     "name": "stdout",
     "output_type": "stream",
     "text": [
      "[array([[-0.77529935],\n",
      "       [ 0.        ],\n",
      "       [-0.1275257 ],\n",
      "       [ 0.        ]]), array([[0.54725197],\n",
      "       [0.52902053],\n",
      "       [1.10639001],\n",
      "       [0.49356628]]), array([[2.44262696],\n",
      "       [1.21219775],\n",
      "       [3.05123878],\n",
      "       [1.21920752]]), array([[4.26045045],\n",
      "       [1.52267677],\n",
      "       [5.75233187],\n",
      "       [1.97890835]]), array([[4.23798347],\n",
      "       [0.72922458],\n",
      "       [8.77932095],\n",
      "       [2.51711197]]), array([[ 4.64087224],\n",
      "       [ 0.56163788],\n",
      "       [11.43139494],\n",
      "       [ 2.58642044]]), array([[ 6.48212667],\n",
      "       [ 1.21880131],\n",
      "       [14.48659157],\n",
      "       [ 2.82716644]]), array([[ 8.85045988],\n",
      "       [ 1.8091715 ],\n",
      "       [16.69745658],\n",
      "       [ 2.51064979]]), array([[11.42185979],\n",
      "       [ 2.20063494],\n",
      "       [19.28244348],\n",
      "       [ 2.54882767]]), array([[13.12702796],\n",
      "       [ 1.94617402],\n",
      "       [22.08088627],\n",
      "       [ 2.67702455]])]\n"
     ]
    }
   ],
   "source": [
    "print f"
   ]
  },
  {
   "cell_type": "code",
   "execution_count": 10,
   "metadata": {},
   "outputs": [
    {
     "data": {
      "image/png": "[encoded data removed]",
      "text/plain": [
       "<Figure size 432x288 with 1 Axes>"
      ]
     },
     "metadata": {
      "needs_background": "light"
     },
     "output_type": "display_data"
    }
   ],
   "source": [
    "for i in range(len(observations)):\n",
    "    plt.plot(observations[i][0],observations[i][1],'ro')\n",
    "    plt.plot(f[i][0],f[i][2],'bx')\n",
    "plt.show()"
   ]
  },
  {
   "cell_type": "code",
   "execution_count": 11,
   "metadata": {},
   "outputs": [],
   "source": [
    "h,H = lds.smoothing(observations)"
   ]
  },
  {
   "cell_type": "code",
   "execution_count": 12,
   "metadata": {},
   "outputs": [
    {
     "name": "stdout",
     "output_type": "stream",
     "text": [
      "[array([[-0.49801604],\n",
      "       [ 0.87103273],\n",
      "       [ 0.04455193],\n",
      "       [ 1.07139772]]), array([[0.92758334],\n",
      "       [1.18749886],\n",
      "       [1.46010491],\n",
      "       [1.79864023]]), array([[2.52095967],\n",
      "       [1.09808753],\n",
      "       [3.463049  ],\n",
      "       [2.32157891]]), array([[3.76166876],\n",
      "       [0.86605463],\n",
      "       [6.03792133],\n",
      "       [2.59122417]]), array([[4.13740566],\n",
      "       [1.12433945],\n",
      "       [8.83976259],\n",
      "       [2.65025234]]), array([[ 5.00667473],\n",
      "       [ 1.63769466],\n",
      "       [11.53328134],\n",
      "       [ 2.66601411]]), array([[ 6.82586761],\n",
      "       [ 1.96955169],\n",
      "       [14.31518168],\n",
      "       [ 2.56588966]]), array([[ 9.0432504 ],\n",
      "       [ 2.05357761],\n",
      "       [16.7239217 ],\n",
      "       [ 2.62291484]]), array([[11.28825753],\n",
      "       [ 1.94617402],\n",
      "       [19.34975202],\n",
      "       [ 2.67702454]]), array([[13.12702796],\n",
      "       [ 1.94617402],\n",
      "       [22.08088627],\n",
      "       [ 2.67702455]])]\n"
     ]
    }
   ],
   "source": [
    "print h"
   ]
  },
  {
   "cell_type": "code",
   "execution_count": 13,
   "metadata": {},
   "outputs": [
    {
     "data": {
      "image/png": "[encoded data removed]",
      "text/plain": [
       "<Figure size 432x288 with 1 Axes>"
      ]
     },
     "metadata": {
      "needs_background": "light"
     },
     "output_type": "display_data"
    }
   ],
   "source": [
    "for i in range(len(observations)):\n",
    "    plt.plot(observations[i][0],observations[i][1],'ro')\n",
    "    plt.plot(h[i][0],h[i][2],'gx')\n",
    "plt.show()"
   ]
  },
  {
   "cell_type": "code",
   "execution_count": 14,
   "metadata": {},
   "outputs": [],
   "source": [
    "A, B, pi_m, pi_s, E_h, E_o, h_list, H_list = lds.EM(observations,estimate=['A','B','pi_m','pi_s'],num_iterations=100)"
   ]
  },
  {
   "cell_type": "code",
   "execution_count": 15,
   "metadata": {},
   "outputs": [
    {
     "data": {
      "image/png": "[encoded data removed]",
      "text/plain": [
       "<Figure size 432x288 with 1 Axes>"
      ]
     },
     "metadata": {
      "needs_background": "light"
     },
     "output_type": "display_data"
    }
   ],
   "source": [
    "for i in range(len(observations)):\n",
    "    plt.plot(observations[i][0],observations[i][1],'ro')\n",
    "    plt.plot(h_list[i][0],h_list[i][2],'kx')\n",
    "plt.show()"
   ]
  },
  {
   "cell_type": "code",
   "execution_count": 16,
   "metadata": {},
   "outputs": [
    {
     "data": {
      "text/plain": [
       "array([[-0.10163714,  1.44169057,  0.60448743, -0.28445375],\n",
       "       [-0.64076684,  1.21413419,  0.36423205, -0.22291894],\n",
       "       [-0.27808856,  1.1457207 ,  1.05335391,  0.9234373 ],\n",
       "       [ 0.11146348,  0.6274399 , -0.09253864,  0.91754798]])"
      ]
     },
     "execution_count": 16,
     "metadata": {},
     "output_type": "execute_result"
    }
   ],
   "source": [
    "A"
   ]
  },
  {
   "cell_type": "code",
   "execution_count": null,
   "metadata": {},
   "outputs": [],
   "source": []
  }
 ],
 "metadata": {
  "kernelspec": {
   "display_name": "Python 2",
   "language": "python",
   "name": "python2"
  },
  "language_info": {
   "codemirror_mode": {
    "name": "ipython",
    "version": 2
   },
   "file_extension": ".py",
   "mimetype": "text/x-python",
   "name": "python",
   "nbconvert_exporter": "python",
   "pygments_lexer": "ipython2",
   "version": "2.7.15"
  }
 },
 "nbformat": 4,
 "nbformat_minor": 2
}
