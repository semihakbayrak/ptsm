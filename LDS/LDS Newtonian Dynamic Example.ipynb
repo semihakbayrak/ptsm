{
 "cells": [
  {
   "cell_type": "code",
   "execution_count": 1,
   "metadata": {},
   "outputs": [],
   "source": [
    "import numpy as np\n",
    "import matplotlib.pyplot as plt\n",
    "from lds import LDS\n",
    "\n",
    "import os, sys\n",
    "parentPath = os.path.abspath(\"..\")\n",
    "if parentPath not in sys.path:\n",
    "    sys.path.insert(0, parentPath)\n",
    "import utils"
   ]
  },
  {
   "cell_type": "markdown",
   "metadata": {},
   "source": [
    "A 2D surface parallel to earth. Noisy observations are positions $x_{x}$, $x_{y}$. Hidden variables are true position values and velocities $v_{x}$, $v_{y}$. We assume constant velocity for this example."
   ]
  },
  {
   "cell_type": "markdown",
   "metadata": {},
   "source": [
    "$x_{x}(t+1) = x_{x}(t) + v_{x}(t) + \\eta_{x_{x}}(t)$\n",
    "\n",
    "$v_{x}(t+1)$ = $v_{x}(t) + \\eta_{v_x}(t)$"
   ]
  },
  {
   "cell_type": "markdown",
   "metadata": {},
   "source": [
    "$x_{y}(t+1) = x_{y}(t) + v_{y}(t) + \\eta_{x_{y}}(t)$\n",
    "\n",
    "$v_{y}(t+1)$ = $v_{y}(t) + \\eta_{v_y}(t)$"
   ]
  },
  {
   "cell_type": "code",
   "execution_count": 2,
   "metadata": {},
   "outputs": [],
   "source": [
    "A = np.array([[1,1,0,0],[0,1,0,0],[0,0,1,1],[0,0,0,1]])\n",
    "B = np.array([[1,0,0,0],[0,0,1,0]])\n",
    "pi_m = np.array([0,0.8,0,-0.3])\n",
    "S = 4\n",
    "O = 2\n",
    "pi_s = np.eye(S)\n",
    "E_h = np.eye(S)*0.2\n",
    "E_o = np.eye(O)*0.2"
   ]
  },
  {
   "cell_type": "code",
   "execution_count": 3,
   "metadata": {},
   "outputs": [],
   "source": [
    "lds = LDS(A,B,pi_m,pi_s,S,O,E_h,E_o)"
   ]
  },
  {
   "cell_type": "code",
   "execution_count": 4,
   "metadata": {},
   "outputs": [],
   "source": [
    "states,observations = lds.generate_data(10)"
   ]
  },
  {
   "cell_type": "code",
   "execution_count": 5,
   "metadata": {},
   "outputs": [
    {
     "name": "stdout",
     "output_type": "stream",
     "text": [
      "[array([ 0.91132717,  2.08088346, -0.99434818, -0.33925928]), array([ 2.88663532,  2.5390832 , -1.55182634, -0.95246091]), array([ 4.79207064,  2.64367124, -2.14184816, -1.06314904]), array([ 8.08276798,  2.28393611, -3.57553681, -1.35607358]), array([10.34592558,  2.07145666, -5.18391131, -1.56581696]), array([12.04968651,  2.38100384, -6.98294947, -0.47658634]), array([13.66233982,  2.59182885, -6.92912396, -0.8896848 ]), array([17.07196196,  3.37486295, -8.77440692, -1.22037996]), array([20.31722994,  3.21365552, -9.6181752 , -0.52700339]), array([23.94328454,  4.03654277, -9.76143256, -0.29708092])]\n"
     ]
    }
   ],
   "source": [
    "print states"
   ]
  },
  {
   "cell_type": "code",
   "execution_count": 6,
   "metadata": {},
   "outputs": [
    {
     "name": "stdout",
     "output_type": "stream",
     "text": [
      "[array([ 0.75582553, -1.39884575]), array([ 3.1477673 , -1.51446264]), array([ 5.05974371, -2.93771196]), array([ 8.55093338, -4.21600368]), array([10.42994741, -5.05198796]), array([12.37585505, -6.39781987]), array([13.56891012, -6.78412221]), array([17.44754232, -9.36365966]), array([20.72445904, -9.96275146]), array([ 23.86461421, -10.41199363])]\n"
     ]
    }
   ],
   "source": [
    "print observations"
   ]
  },
  {
   "cell_type": "code",
   "execution_count": 7,
   "metadata": {},
   "outputs": [
    {
     "data": {
      "image/png": "[encoded data removed]",
      "text/plain": [
       "<Figure size 432x288 with 1 Axes>"
      ]
     },
     "metadata": {
      "needs_background": "light"
     },
     "output_type": "display_data"
    }
   ],
   "source": [
    "for obs, state in zip(observations, states):\n",
    "    plt.plot(obs[0],obs[1],'ro')\n",
    "    plt.plot(state[0],state[2],'kx')\n",
    "plt.show()"
   ]
  },
  {
   "cell_type": "code",
   "execution_count": 8,
   "metadata": {},
   "outputs": [],
   "source": [
    "f,F = lds.filtering(observations)"
   ]
  },
  {
   "cell_type": "code",
   "execution_count": 9,
   "metadata": {},
   "outputs": [
    {
     "name": "stdout",
     "output_type": "stream",
     "text": [
      "[array([[ 0.37791276],\n",
      "       [ 0.        ],\n",
      "       [-0.69942287],\n",
      "       [ 0.        ]]), array([[ 2.35638029],\n",
      "       [ 0.79138701],\n",
      "       [-1.28159413],\n",
      "       [-0.2328685 ]]), array([[ 4.67734843],\n",
      "       [ 1.55617757],\n",
      "       [-2.65306209],\n",
      "       [-0.80216823]]), array([[ 8.13067816],\n",
      "       [ 2.52876824],\n",
      "       [-4.0780396 ],\n",
      "       [-1.12145653]]), array([[10.47092179],\n",
      "       [ 2.43195831],\n",
      "       [-5.07832383],\n",
      "       [-1.05923292]]), array([[12.46977429],\n",
      "       [ 2.20954088],\n",
      "       [-6.35143932],\n",
      "       [-1.16907031]]), array([[13.76674597],\n",
      "       [ 1.74087931],\n",
      "       [-6.91532103],\n",
      "       [-0.85826797]]), array([[17.10193302],\n",
      "       [ 2.559675  ],\n",
      "       [-9.08037785],\n",
      "       [-1.52940131]]), array([[ 20.53510757],\n",
      "       [  3.00828482],\n",
      "       [-10.07802223],\n",
      "       [ -1.25630285]]), array([[ 23.80738735],\n",
      "       [  3.14386687],\n",
      "       [-10.5763104 ],\n",
      "       [ -0.86700305]])]\n"
     ]
    }
   ],
   "source": [
    "print f"
   ]
  },
  {
   "cell_type": "code",
   "execution_count": 10,
   "metadata": {},
   "outputs": [
    {
     "data": {
      "image/png": "[encoded data removed]",
      "text/plain": [
       "<Figure size 432x288 with 1 Axes>"
      ]
     },
     "metadata": {
      "needs_background": "light"
     },
     "output_type": "display_data"
    }
   ],
   "source": [
    "for i in range(len(observations)):\n",
    "    plt.plot(observations[i][0],observations[i][1],'ro')\n",
    "    plt.plot(f[i][0],f[i][2],'bx')\n",
    "plt.show()"
   ]
  },
  {
   "cell_type": "code",
   "execution_count": 11,
   "metadata": {},
   "outputs": [],
   "source": [
    "h,H = lds.smoothing(observations)"
   ]
  },
  {
   "cell_type": "code",
   "execution_count": 12,
   "metadata": {},
   "outputs": [
    {
     "name": "stdout",
     "output_type": "stream",
     "text": [
      "[array([[ 0.72504545],\n",
      "       [ 1.37320137],\n",
      "       [-0.79746554],\n",
      "       [-0.58466526]]), array([[ 2.79251218],\n",
      "       [ 2.05213737],\n",
      "       [-1.57821613],\n",
      "       [-0.9732452 ]]), array([[ 5.18365978],\n",
      "       [ 2.39206313],\n",
      "       [-2.81130014],\n",
      "       [-1.10198632]]), array([[ 8.03864923],\n",
      "       [ 2.26906258],\n",
      "       [-4.04671345],\n",
      "       [-1.09730044]]), array([[10.25835396],\n",
      "       [ 2.19541988],\n",
      "       [-5.10815067],\n",
      "       [-1.1284778 ]]), array([[12.23282254],\n",
      "       [ 2.34272847],\n",
      "       [-6.25692795],\n",
      "       [-1.13935568]]), array([[14.2115672 ],\n",
      "       [ 2.85402087],\n",
      "       [-7.27569118],\n",
      "       [-1.27082601]]), array([[17.34426133],\n",
      "       [ 3.08664001],\n",
      "       [-8.91749372],\n",
      "       [-1.03131982]]), array([[20.60629362],\n",
      "       [ 3.14386687],\n",
      "       [-9.87362412],\n",
      "       [-0.86700305]]), array([[ 23.80738735],\n",
      "       [  3.14386687],\n",
      "       [-10.5763104 ],\n",
      "       [ -0.86700305]])]\n"
     ]
    }
   ],
   "source": [
    "print h"
   ]
  },
  {
   "cell_type": "code",
   "execution_count": 13,
   "metadata": {},
   "outputs": [
    {
     "data": {
      "image/png": "[encoded data removed]",
      "text/plain": [
       "<Figure size 432x288 with 1 Axes>"
      ]
     },
     "metadata": {
      "needs_background": "light"
     },
     "output_type": "display_data"
    }
   ],
   "source": [
    "for i in range(len(observations)):\n",
    "    plt.plot(observations[i][0],observations[i][1],'ro')\n",
    "    plt.plot(h[i][0],h[i][2],'gx')\n",
    "plt.show()"
   ]
  },
  {
   "cell_type": "code",
   "execution_count": 46,
   "metadata": {},
   "outputs": [],
   "source": [
    "A, B, pi_m, pi_s, E_h, E_o, h_list, H_list = lds.EM(observations,num_iterations=3)"
   ]
  },
  {
   "cell_type": "code",
   "execution_count": 47,
   "metadata": {},
   "outputs": [
    {
     "data": {
      "image/png": "[encoded data removed]",
      "text/plain": [
       "<Figure size 432x288 with 1 Axes>"
      ]
     },
     "metadata": {
      "needs_background": "light"
     },
     "output_type": "display_data"
    }
   ],
   "source": [
    "for i in range(len(observations)):\n",
    "    plt.plot(observations[i][0],observations[i][1],'ro')\n",
    "    plt.plot(h_list[i][0],h_list[i][2],'kx')\n",
    "plt.show()"
   ]
  },
  {
   "cell_type": "code",
   "execution_count": 48,
   "metadata": {},
   "outputs": [
    {
     "data": {
      "text/plain": [
       "array([[-1.37480736,  1.37484798, -3.1015074 ,  3.95369021],\n",
       "       [-0.02104228,  1.52146975,  0.51968096,  0.67394769],\n",
       "       [ 1.20072019, -0.50066473,  2.3621857 , -2.75690776],\n",
       "       [-0.01634304,  0.86475338,  0.69550073,  1.19752813]])"
      ]
     },
     "execution_count": 48,
     "metadata": {},
     "output_type": "execute_result"
    }
   ],
   "source": [
    "A"
   ]
  },
  {
   "cell_type": "code",
   "execution_count": null,
   "metadata": {},
   "outputs": [],
   "source": []
  }
 ],
 "metadata": {
  "kernelspec": {
   "display_name": "Python 2",
   "language": "python",
   "name": "python2"
  },
  "language_info": {
   "codemirror_mode": {
    "name": "ipython",
    "version": 2
   },
   "file_extension": ".py",
   "mimetype": "text/x-python",
   "name": "python",
   "nbconvert_exporter": "python",
   "pygments_lexer": "ipython2",
   "version": "2.7.15"
  }
 },
 "nbformat": 4,
 "nbformat_minor": 2
}
