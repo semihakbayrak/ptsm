{
 "cells": [
  {
   "cell_type": "code",
   "execution_count": 1,
   "metadata": {},
   "outputs": [],
   "source": [
    "import numpy as np\n",
    "import matplotlib.pyplot as plt\n",
    "from lds import LDS\n",
    "\n",
    "import os, sys\n",
    "parentPath = os.path.abspath(\"..\")\n",
    "if parentPath not in sys.path:\n",
    "    sys.path.insert(0, parentPath)\n",
    "import utils"
   ]
  },
  {
   "cell_type": "markdown",
   "metadata": {},
   "source": [
    "A 2D surface parallel to earth. Noisy observations are positions $x_{x}$, $x_{y}$. Hidden variables are true position values and velocities $v_{x}$, $v_{y}$. We assume constant velocity for this example."
   ]
  },
  {
   "cell_type": "markdown",
   "metadata": {},
   "source": [
    "$x_{x}(t+1) = x_{x}(t) + v_{x}(t) + \\eta_{x_{x}}(t)$\n",
    "\n",
    "$v_{x}(t+1)$ = $v_{x}(t) + \\eta_{v_x}(t)$"
   ]
  },
  {
   "cell_type": "markdown",
   "metadata": {},
   "source": [
    "$x_{y}(t+1) = x_{y}(t) + v_{y}(t) + \\eta_{x_{y}}(t)$\n",
    "\n",
    "$v_{y}(t+1)$ = $v_{y}(t) + \\eta_{v_y}(t)$"
   ]
  },
  {
   "cell_type": "code",
   "execution_count": 2,
   "metadata": {},
   "outputs": [],
   "source": [
    "A = np.array([[1,0,1],[0,1,1],[0,0,1]])\n",
    "B = np.array([[1,0,0],[0,1,0]])\n",
    "pi_m = np.array([0,0,1])\n",
    "S = 3\n",
    "O = 2\n",
    "pi_s = np.eye(S)\n",
    "E_h = np.eye(S)*0.1\n",
    "E_h[S-1,S-1] = 10**-5\n",
    "E_o = np.eye(O)*0.2"
   ]
  },
  {
   "cell_type": "code",
   "execution_count": 3,
   "metadata": {},
   "outputs": [],
   "source": [
    "lds = LDS(A,B,pi_m,pi_s,S,O,E_h,E_o)"
   ]
  },
  {
   "cell_type": "code",
   "execution_count": 4,
   "metadata": {},
   "outputs": [],
   "source": [
    "states,observations = lds.generate_data(40)"
   ]
  },
  {
   "cell_type": "code",
   "execution_count": 5,
   "metadata": {},
   "outputs": [
    {
     "name": "stdout",
     "output_type": "stream",
     "text": [
      "[array([-0.10934939,  1.71697616,  2.33578539]), array([2.12667337, 3.75527972, 2.33599903]), array([4.60854831, 6.25070429, 2.34174424]), array([7.07743026, 8.15287569, 2.34538043]), array([ 9.36746768, 11.07561982,  2.34631973]), array([12.73154694, 13.37494377,  2.35162467]), array([15.35149521, 15.69736741,  2.35676171]), array([17.66354543, 18.02539398,  2.35138544]), array([20.06009122, 20.46605162,  2.35374024]), array([22.83524646, 22.76452068,  2.35569998]), array([25.57242046, 25.91728583,  2.35669233]), array([27.65101581, 28.22555606,  2.34929244]), array([30.21054727, 30.83847311,  2.35358428]), array([32.56760841, 32.976892  ,  2.35415325]), array([34.57466677, 35.2540206 ,  2.34642517]), array([36.87385335, 37.73429771,  2.34496339]), array([39.17405809, 40.04004493,  2.34660696]), array([41.04623771, 41.9466349 ,  2.34757082]), array([42.99200721, 44.26261473,  2.3462378 ]), array([46.10929563, 46.9818045 ,  2.34228054]), array([49.03271158, 49.25252724,  2.34024371]), array([51.39326503, 51.58500512,  2.3402326 ]), array([53.85772253, 54.00027109,  2.34568272]), array([56.04292815, 56.17063769,  2.34259861]), array([58.22735611, 58.48953513,  2.34488391]), array([61.09873177, 60.42457249,  2.3437038 ]), array([63.47663664, 62.25057672,  2.34543872]), array([66.00202711, 64.49131487,  2.34349655]), array([68.48087893, 66.71248764,  2.3416243 ]), array([71.00260495, 68.95822184,  2.34352167]), array([73.6262172 , 71.28106284,  2.33859422]), array([76.07953877, 73.96045242,  2.33903292]), array([78.73111518, 76.26632628,  2.33336946]), array([81.49334896, 78.90196918,  2.32938558]), array([83.96133233, 81.4675441 ,  2.3351135 ]), array([85.51301829, 84.17463226,  2.3375223 ]), array([87.91076155, 86.66341767,  2.33440611]), array([90.01727409, 89.19074341,  2.33404387]), array([92.38270128, 91.34055729,  2.33642789]), array([94.18847587, 93.59721492,  2.33761125])]\n"
     ]
    }
   ],
   "source": [
    "print states"
   ]
  },
  {
   "cell_type": "code",
   "execution_count": 6,
   "metadata": {},
   "outputs": [
    {
     "name": "stdout",
     "output_type": "stream",
     "text": [
      "[array([-0.25057164,  1.5273371 ]), array([2.14427105, 3.49910128]), array([4.65178111, 6.69428508]), array([7.97692255, 8.12936793]), array([ 9.46998232, 11.72673282]), array([12.0676195, 13.597832 ]), array([15.06260951, 15.42986413]), array([17.70037933, 17.17655886]), array([20.67420684, 20.33041306]), array([23.426     , 22.46655522]), array([25.48149969, 25.45404298]), array([27.50269039, 28.39423421]), array([30.34187347, 30.45325995]), array([32.23874105, 32.75960055]), array([34.85337235, 35.401963  ]), array([37.16707647, 38.34175034]), array([38.70060608, 39.83710393]), array([40.38140517, 41.70757716]), array([42.41914656, 43.74827729]), array([46.06602707, 47.51680611]), array([49.0351546 , 49.36198997]), array([50.65911737, 51.38356948]), array([53.62157243, 54.44432396]), array([55.38019809, 55.31731181]), array([57.96601244, 58.99074363]), array([60.80850919, 60.38094017]), array([61.93550909, 61.96598126]), array([66.38440599, 64.51768484]), array([68.977926  , 66.66661286]), array([70.93634329, 68.96412896]), array([73.38321014, 71.65183835]), array([76.97708819, 73.3652704 ]), array([78.49563412, 75.54802233]), array([81.19068843, 79.33129343]), array([83.85441379, 81.6404194 ]), array([85.39695205, 84.16662093]), array([87.50606476, 86.72890491]), array([88.91022593, 88.72890866]), array([91.92508233, 90.68822842]), array([94.21035252, 92.85725462])]\n"
     ]
    }
   ],
   "source": [
    "print observations"
   ]
  },
  {
   "cell_type": "code",
   "execution_count": 7,
   "metadata": {},
   "outputs": [
    {
     "data": {
      "image/png": "[encoded data removed]",
      "text/plain": [
       "<Figure size 432x288 with 1 Axes>"
      ]
     },
     "metadata": {
      "needs_background": "light"
     },
     "output_type": "display_data"
    }
   ],
   "source": [
    "for obs, state in zip(observations, states):\n",
    "    plt.plot(obs[0],obs[1],'ro')\n",
    "    plt.plot(state[0],state[1],'kx')\n",
    "plt.show()"
   ]
  },
  {
   "cell_type": "code",
   "execution_count": 8,
   "metadata": {},
   "outputs": [],
   "source": [
    "f,F = lds.filtering(observations)"
   ]
  },
  {
   "cell_type": "code",
   "execution_count": 9,
   "metadata": {},
   "outputs": [
    {
     "name": "stdout",
     "output_type": "stream",
     "text": [
      "[array([[-0.08352388],\n",
      "       [ 0.50911235],\n",
      "       [ 0.        ]]), array([[9.29187771e-01],\n",
      "       [1.86827581e+00],\n",
      "       [1.42295430e-04]]), array([[2.74765026e+00],\n",
      "       [4.22561584e+00],\n",
      "       [6.98815168e-04]]), array([[5.34809685e+00],\n",
      "       [6.16717813e+00],\n",
      "       [1.68626699e-03]]), array([[7.40807491e+00],\n",
      "       [8.94493832e+00],\n",
      "       [3.17846402e-03]]), array([[9.74017316e+00],\n",
      "       [1.12737123e+01],\n",
      "       [5.05780153e-03]]), array([[1.24057450e+01],\n",
      "       [1.33561953e+01],\n",
      "       [7.43074694e-03]]), array([[1.50591467e+01],\n",
      "       [1.52724785e+01],\n",
      "       [1.01581165e-02]]), array([[1.78751057e+01],\n",
      "       [1.78098763e+01],\n",
      "       [1.38753269e-02]]), array([[2.06612029e+01],\n",
      "       [2.01488665e+01],\n",
      "       [1.79287277e-02]]), array([[2.30844935e+01],\n",
      "       [2.28145968e+01],\n",
      "       [2.24420035e-02]]), array([[25.30942216],\n",
      "       [25.62024567],\n",
      "       [ 0.02738174]]), array([[27.84436091],\n",
      "       [28.05546591],\n",
      "       [ 0.03272967]]), array([[30.06297896],\n",
      "       [30.42896121],\n",
      "       [ 0.03809263]]), array([[32.48312029],\n",
      "       [32.94040674],\n",
      "       [ 0.04431238]]), array([[34.85382228],\n",
      "       [35.66980243],\n",
      "       [ 0.05121168]]), array([[36.80839638],\n",
      "       [37.78463537],\n",
      "       [ 0.05705037]]), array([[38.62897989],\n",
      "       [39.78018538],\n",
      "       [ 0.06284898]]), array([[40.56159085],\n",
      "       [41.80175896],\n",
      "       [ 0.06920501]]), array([[43.357792  ],\n",
      "       [44.70326557],\n",
      "       [ 0.07895257]]), array([[46.24503989],\n",
      "       [47.08119437],\n",
      "       [ 0.08837988]]), array([[48.50429029],\n",
      "       [49.28459359],\n",
      "       [ 0.09668424]]), array([[51.12120794],\n",
      "       [51.92273536],\n",
      "       [ 0.10695232]]), array([[53.31184712],\n",
      "       [53.68116769],\n",
      "       [ 0.11486632]]), array([[55.70683449],\n",
      "       [56.40386037],\n",
      "       [ 0.12565968]]), array([[58.33039235],\n",
      "       [58.46512079],\n",
      "       [ 0.13584209]]), array([[60.20883171],\n",
      "       [60.29143201],\n",
      "       [ 0.14402782]]), array([[63.38085558],\n",
      "       [62.48879517],\n",
      "       [ 0.15658466]]), array([[66.26952842],\n",
      "       [64.66784165],\n",
      "       [ 0.16874233]]), array([[68.69847592],\n",
      "       [66.91152538],\n",
      "       [ 0.1801959 ]]), array([[71.14306335],\n",
      "       [69.38390219],\n",
      "       [ 0.19261733]]), array([[74.16939167],\n",
      "       [71.4839022 ],\n",
      "       [ 0.20593557]]), array([[76.44681686],\n",
      "       [73.63026623],\n",
      "       [ 0.21753479]]), array([[78.94215315],\n",
      "       [76.60418033],\n",
      "       [ 0.2324978 ]]), array([[81.52878048],\n",
      "       [79.25279687],\n",
      "       [ 0.24705836]]), array([[83.59917902],\n",
      "       [81.84602165],\n",
      "       [ 0.2601149 ]]), array([[85.69576147],\n",
      "       [84.43060285],\n",
      "       [ 0.27346931]]), array([[87.45101978],\n",
      "       [86.72778183],\n",
      "       [ 0.28499001]]), array([[89.84359693],\n",
      "       [88.86355101],\n",
      "       [ 0.29829967]]), array([[92.18930312],\n",
      "       [91.02273121],\n",
      "       [ 0.31173362]])]\n"
     ]
    }
   ],
   "source": [
    "print f"
   ]
  },
  {
   "cell_type": "code",
   "execution_count": 10,
   "metadata": {},
   "outputs": [
    {
     "data": {
      "image/png": "[encoded data removed]",
      "text/plain": [
       "<Figure size 432x288 with 1 Axes>"
      ]
     },
     "metadata": {
      "needs_background": "light"
     },
     "output_type": "display_data"
    }
   ],
   "source": [
    "for i in range(len(observations)):\n",
    "    plt.plot(observations[i][0],observations[i][1],'ro')\n",
    "    plt.plot(f[i][0],f[i][1],'bx')\n",
    "plt.show()"
   ]
  },
  {
   "cell_type": "code",
   "execution_count": 11,
   "metadata": {},
   "outputs": [],
   "source": [
    "h,H = lds.smoothing(observations)"
   ]
  },
  {
   "cell_type": "code",
   "execution_count": 12,
   "metadata": {},
   "outputs": [
    {
     "name": "stdout",
     "output_type": "stream",
     "text": [
      "[array([[1.11033599],\n",
      "       [1.90356234],\n",
      "       [0.01631066]]), array([[2.91743661],\n",
      "       [4.01154815],\n",
      "       [0.03224899]]), array([[5.12705369],\n",
      "       [6.3916911 ],\n",
      "       [0.04774231]]), array([[7.58979363],\n",
      "       [8.63602362],\n",
      "       [0.06277918]]), array([[ 9.87399791],\n",
      "       [11.14871281],\n",
      "       [ 0.07735221]]), array([[12.37477415],\n",
      "       [13.38695614],\n",
      "       [ 0.09146927]]), array([[15.04323539],\n",
      "       [15.53386919],\n",
      "       [ 0.10512498]]), array([[17.71565562],\n",
      "       [17.74643081],\n",
      "       [ 0.1183147 ]]), array([[20.40889395],\n",
      "       [20.25710834],\n",
      "       [ 0.13100885]]), array([[22.98216025],\n",
      "       [22.74381792],\n",
      "       [ 0.14322414]]), array([[25.34571232],\n",
      "       [25.38136451],\n",
      "       [ 0.15496873]]), array([[27.65310581],\n",
      "       [27.99430698],\n",
      "       [ 0.16625288]]), array([[30.0469819 ],\n",
      "       [30.41856073],\n",
      "       [ 0.17708898]]), array([[32.30423925],\n",
      "       [32.83629192],\n",
      "       [ 0.1874934 ]]), array([[34.60464134],\n",
      "       [35.30276445],\n",
      "       [ 0.19745895]]), array([[36.79063495],\n",
      "       [37.72959474],\n",
      "       [ 0.20700296]]), array([[38.79794357],\n",
      "       [39.859883  ],\n",
      "       [ 0.21617484]]), array([[40.86308484],\n",
      "       [42.01072471],\n",
      "       [ 0.22496853]]), array([[43.17785194],\n",
      "       [44.3219262 ],\n",
      "       [ 0.23334469]]), array([[45.88034054],\n",
      "       [46.92832095],\n",
      "       [ 0.24123661]]), array([[48.49787083],\n",
      "       [49.24835807],\n",
      "       [ 0.24868297]]), array([[50.854199  ],\n",
      "       [51.51901898],\n",
      "       [ 0.25571632]]), array([[53.31509507],\n",
      "       [53.86443173],\n",
      "       [ 0.26232008]]), array([[55.62935032],\n",
      "       [55.92649622],\n",
      "       [ 0.26853859]]), array([[58.07439463],\n",
      "       [58.29936583],\n",
      "       [ 0.27432885]]), array([[60.57941509],\n",
      "       [60.3323316 ],\n",
      "       [ 0.27972002]]), array([[62.97527483],\n",
      "       [62.34637938],\n",
      "       [ 0.28472598]]), array([[65.8960189 ],\n",
      "       [64.55562765],\n",
      "       [ 0.28927562]]), array([[68.57711499],\n",
      "       [66.78839287],\n",
      "       [ 0.29339146]]), array([[71.0619177 ],\n",
      "       [69.08616021],\n",
      "       [ 0.29708746]]), array([[73.61320031],\n",
      "       [71.44863585],\n",
      "       [ 0.30035119]]), array([[76.2827388 ],\n",
      "       [73.71277103],\n",
      "       [ 0.30318131]]), array([[78.60793018],\n",
      "       [76.15348411],\n",
      "       [ 0.30559515]]), array([[80.99168128],\n",
      "       [78.89933978],\n",
      "       [ 0.30755678]]), array([[83.2778887 ],\n",
      "       [81.43117853],\n",
      "       [ 0.30909775]]), array([[85.27737318],\n",
      "       [83.85993648],\n",
      "       [ 0.31025739]]), array([[87.21822687],\n",
      "       [86.13651084],\n",
      "       [ 0.31105701]]), array([[89.01596054],\n",
      "       [88.11768712],\n",
      "       [ 0.31154065]]), array([[90.86704479],\n",
      "       [89.79373588],\n",
      "       [ 0.31173362]]), array([[92.18930312],\n",
      "       [91.02273121],\n",
      "       [ 0.31173362]])]\n"
     ]
    }
   ],
   "source": [
    "print h"
   ]
  },
  {
   "cell_type": "code",
   "execution_count": 13,
   "metadata": {},
   "outputs": [
    {
     "data": {
      "image/png": "[encoded data removed]",
      "text/plain": [
       "<Figure size 432x288 with 1 Axes>"
      ]
     },
     "metadata": {
      "needs_background": "light"
     },
     "output_type": "display_data"
    }
   ],
   "source": [
    "for i in range(len(observations)):\n",
    "    plt.plot(observations[i][0],observations[i][1],'ro')\n",
    "    plt.plot(h[i][0],h[i][1],'gx')\n",
    "plt.show()"
   ]
  },
  {
   "cell_type": "code",
   "execution_count": 19,
   "metadata": {},
   "outputs": [],
   "source": [
    "A, B, pi_m, pi_s, E_h, E_o, h_list, H_list = lds.EM(observations,estimate=['A','B','pi_m','pi_s'],num_iterations=20)"
   ]
  },
  {
   "cell_type": "code",
   "execution_count": 20,
   "metadata": {},
   "outputs": [
    {
     "data": {
      "image/png": "[encoded data removed]",
      "text/plain": [
       "<Figure size 432x288 with 1 Axes>"
      ]
     },
     "metadata": {
      "needs_background": "light"
     },
     "output_type": "display_data"
    }
   ],
   "source": [
    "for i in range(len(observations)):\n",
    "    plt.plot(observations[i][0],observations[i][1],'ro')\n",
    "    plt.plot(h_list[i][0],h_list[i][2],'kx')\n",
    "plt.show()"
   ]
  },
  {
   "cell_type": "code",
   "execution_count": 16,
   "metadata": {},
   "outputs": [
    {
     "data": {
      "text/plain": [
       "array([[-0.10163714,  1.44169057,  0.60448743, -0.28445375],\n",
       "       [-0.64076684,  1.21413419,  0.36423205, -0.22291894],\n",
       "       [-0.27808856,  1.1457207 ,  1.05335391,  0.9234373 ],\n",
       "       [ 0.11146348,  0.6274399 , -0.09253864,  0.91754798]])"
      ]
     },
     "execution_count": 16,
     "metadata": {},
     "output_type": "execute_result"
    }
   ],
   "source": [
    "A"
   ]
  },
  {
   "cell_type": "code",
   "execution_count": null,
   "metadata": {},
   "outputs": [],
   "source": []
  }
 ],
 "metadata": {
  "kernelspec": {
   "display_name": "Python 2",
   "language": "python",
   "name": "python2"
  },
  "language_info": {
   "codemirror_mode": {
    "name": "ipython",
    "version": 2
   },
   "file_extension": ".py",
   "mimetype": "text/x-python",
   "name": "python",
   "nbconvert_exporter": "python",
   "pygments_lexer": "ipython2",
   "version": "2.7.15"
  }
 },
 "nbformat": 4,
 "nbformat_minor": 2
}
