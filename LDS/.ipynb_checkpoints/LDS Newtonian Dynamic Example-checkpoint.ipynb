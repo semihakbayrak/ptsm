{
 "cells": [
  {
   "cell_type": "code",
   "execution_count": 1,
   "metadata": {},
   "outputs": [],
   "source": [
    "import numpy as np\n",
    "import matplotlib.pyplot as plt\n",
    "from lds import LDS\n",
    "\n",
    "import os, sys\n",
    "parentPath = os.path.abspath(\"..\")\n",
    "if parentPath not in sys.path:\n",
    "    sys.path.insert(0, parentPath)\n",
    "import utils"
   ]
  },
  {
   "cell_type": "markdown",
   "metadata": {},
   "source": [
    "A 2D surface parallel to earth. Noisy observations are positions $x_{x}$, $x_{y}$. Hidden variables are true position values and velocities $v_{x}$, $v_{y}$. We assume constant velocity for this example."
   ]
  },
  {
   "cell_type": "markdown",
   "metadata": {},
   "source": [
    "$x_{x}(t+1) = x_{x}(t) + v_{x}(t) + \\eta_{x_{x}}(t)$\n",
    "\n",
    "$v_{x}(t+1)$ = $v_{x}(t) + \\eta_{v_x}(t)$"
   ]
  },
  {
   "cell_type": "markdown",
   "metadata": {},
   "source": [
    "$x_{y}(t+1) = x_{y}(t) + v_{y}(t) + \\eta_{x_{y}}(t)$\n",
    "\n",
    "$v_{y}(t+1)$ = $v_{y}(t) + \\eta_{v_y}(t)$"
   ]
  },
  {
   "cell_type": "code",
   "execution_count": 2,
   "metadata": {},
   "outputs": [],
   "source": [
    "A = np.array([[1,1,0,0],[0,1,0,0],[0,0,1,1],[0,0,0,1]])\n",
    "B = np.array([[1,0,0,0],[0,0,1,0]])\n",
    "pi_m = np.array([0,0.8,0,-0.3])\n",
    "S = 4\n",
    "O = 2\n",
    "pi_s = np.eye(S)\n",
    "E_h = np.eye(S)*0.1\n",
    "E_o = np.eye(O)*0.2"
   ]
  },
  {
   "cell_type": "code",
   "execution_count": 3,
   "metadata": {},
   "outputs": [],
   "source": [
    "lds = LDS(A,B,pi_m,pi_s,S,O,E_h,E_o)"
   ]
  },
  {
   "cell_type": "code",
   "execution_count": 4,
   "metadata": {},
   "outputs": [],
   "source": [
    "states,observations = lds.generate_data(10)"
   ]
  },
  {
   "cell_type": "code",
   "execution_count": 5,
   "metadata": {},
   "outputs": [
    {
     "name": "stdout",
     "output_type": "stream",
     "text": [
      "[array([ 0.99700764,  0.39453623, -1.5660497 ,  0.54255958]), array([ 1.38872034,  0.26659442, -1.26911828,  0.7432995 ]), array([ 1.74064068, -0.05617799, -0.24556705,  1.37075324]), array([1.95786212, 0.00733577, 1.24609802, 1.21238768]), array([2.70425385, 0.20690355, 2.83916763, 1.56480623]), array([3.42265855, 0.18416218, 3.78689988, 1.75200231]), array([3.61122379, 0.51255252, 4.85629983, 1.97209185]), array([3.78795142, 0.20787099, 6.51455222, 2.12091569]), array([4.27668045, 0.0599788 , 8.49915897, 2.26574942]), array([ 4.60387095, -0.02832012, 11.11330863,  2.8104877 ])]\n"
     ]
    }
   ],
   "source": [
    "print states"
   ]
  },
  {
   "cell_type": "code",
   "execution_count": 6,
   "metadata": {},
   "outputs": [
    {
     "name": "stdout",
     "output_type": "stream",
     "text": [
      "[array([ 0.72905832, -1.50751241]), array([ 1.4713538, -1.6364147]), array([ 1.75878453, -0.06001357]), array([1.34806612, 1.99541374]), array([2.23121618, 3.2647625 ]), array([4.15085647, 3.87517903]), array([3.66935456, 4.64727323]), array([3.52862044, 6.69907012]), array([4.64692592, 8.12111652]), array([ 4.66308276, 11.27329758])]\n"
     ]
    }
   ],
   "source": [
    "print observations"
   ]
  },
  {
   "cell_type": "code",
   "execution_count": 7,
   "metadata": {},
   "outputs": [
    {
     "data": {
      "image/png": "[encoded data removed]",
      "text/plain": [
       "<Figure size 432x288 with 1 Axes>"
      ]
     },
     "metadata": {
      "needs_background": "light"
     },
     "output_type": "display_data"
    }
   ],
   "source": [
    "for obs in observations:\n",
    "    plt.plot(obs[0],obs[1],'ro')\n",
    "plt.show()"
   ]
  },
  {
   "cell_type": "code",
   "execution_count": 8,
   "metadata": {},
   "outputs": [],
   "source": [
    "f,F = lds.filtering(observations)"
   ]
  },
  {
   "cell_type": "code",
   "execution_count": 9,
   "metadata": {},
   "outputs": [
    {
     "name": "stdout",
     "output_type": "stream",
     "text": [
      "[array([[ 0.24301944],\n",
      "       [ 0.        ],\n",
      "       [-0.50250414],\n",
      "       [ 0.        ]]), array([[ 0.94492479],\n",
      "       [ 0.26321451],\n",
      "       [-1.15045303],\n",
      "       [-0.24298083]]), array([[ 1.59648909],\n",
      "       [ 0.44289874],\n",
      "       [-0.45302165],\n",
      "       [ 0.19213526]]), array([[1.52580783],\n",
      "       [0.2015442 ],\n",
      "       [1.41530951],\n",
      "       [0.97985574]]), array([[2.10520752],\n",
      "       [0.37879184],\n",
      "       [3.04728962],\n",
      "       [1.28575975]]), array([[3.73581885],\n",
      "       [0.96584887],\n",
      "       [3.98918605],\n",
      "       [1.12450058]]), array([[3.92615415],\n",
      "       [0.60203637],\n",
      "       [4.76329885],\n",
      "       [0.96012504]]), array([[3.77718776],\n",
      "       [0.24965189],\n",
      "       [6.45645204],\n",
      "       [1.3040755 ]]), array([[4.49274688],\n",
      "       [0.46827725],\n",
      "       [8.03145922],\n",
      "       [1.43120925]]), array([[ 4.73716035],\n",
      "       [ 0.36322882],\n",
      "       [10.82311828],\n",
      "       [ 2.06960243]])]\n"
     ]
    }
   ],
   "source": [
    "print f"
   ]
  },
  {
   "cell_type": "code",
   "execution_count": 10,
   "metadata": {},
   "outputs": [
    {
     "data": {
      "image/png": "[encoded data removed]",
      "text/plain": [
       "<Figure size 432x288 with 1 Axes>"
      ]
     },
     "metadata": {
      "needs_background": "light"
     },
     "output_type": "display_data"
    }
   ],
   "source": [
    "for i in range(len(observations)):\n",
    "    plt.plot(observations[i][0],observations[i][1],'ro')\n",
    "    plt.plot(f[i][0],f[i][2],'bx')\n",
    "plt.show()"
   ]
  },
  {
   "cell_type": "code",
   "execution_count": 11,
   "metadata": {},
   "outputs": [],
   "source": [
    "g,G = lds.backward(observations)"
   ]
  },
  {
   "cell_type": "code",
   "execution_count": 12,
   "metadata": {},
   "outputs": [
    {
     "name": "stdout",
     "output_type": "stream",
     "text": [
      "[array([[ 4.73597396],\n",
      "       [-0.37163138],\n",
      "       [10.82028364],\n",
      "       [-2.08967864]]), array([[ 4.4812552 ],\n",
      "       [-0.47499731],\n",
      "       [ 8.00400086],\n",
      "       [-1.44726627]]), array([[ 3.74053409],\n",
      "       [-0.24007396],\n",
      "       [ 6.36888956],\n",
      "       [-1.28119464]]), array([[ 3.8404021 ],\n",
      "       [-0.54057034],\n",
      "       [ 4.55803473],\n",
      "       [-0.81299422]]), array([[ 3.57442573],\n",
      "       [-0.78331553],\n",
      "       [ 3.60178002],\n",
      "       [-0.68634981]]), array([[ 1.86436982],\n",
      "       [ 0.03804263],\n",
      "       [ 2.4758806 ],\n",
      "       [-0.2967826 ]]), array([[1.31557255],\n",
      "       [0.56431288],\n",
      "       [0.91713272],\n",
      "       [0.83493116]]), array([[1.83035256],\n",
      "       [0.60948686],\n",
      "       [0.1083428 ],\n",
      "       [2.33400477]]), array([[2.53526346],\n",
      "       [0.53195483],\n",
      "       [2.66682273],\n",
      "       [2.15161871]]), array([[ 4.66308276],\n",
      "       [ 0.        ],\n",
      "       [11.27329758],\n",
      "       [ 0.        ]])]\n"
     ]
    }
   ],
   "source": [
    "print g"
   ]
  },
  {
   "cell_type": "code",
   "execution_count": 13,
   "metadata": {},
   "outputs": [
    {
     "data": {
      "image/png": "[encoded data removed]",
      "text/plain": [
       "<Figure size 432x288 with 1 Axes>"
      ]
     },
     "metadata": {
      "needs_background": "light"
     },
     "output_type": "display_data"
    }
   ],
   "source": [
    "for i in range(len(observations)):\n",
    "    plt.plot(observations[i][0],observations[i][1],'ro')\n",
    "    plt.plot(g[i][0],g[i][2],'gx')\n",
    "plt.show()"
   ]
  },
  {
   "cell_type": "code",
   "execution_count": 14,
   "metadata": {},
   "outputs": [],
   "source": [
    "h,H = lds.smoothing(observations)"
   ]
  },
  {
   "cell_type": "code",
   "execution_count": 15,
   "metadata": {},
   "outputs": [
    {
     "name": "stdout",
     "output_type": "stream",
     "text": [
      "[array([[0.93243753],\n",
      "       [0.78503316],\n",
      "       [0.88870455],\n",
      "       [1.42805694]]), array([[1.56166699],\n",
      "       [0.76284928],\n",
      "       [0.74729243],\n",
      "       [1.46652399]]), array([[2.07298289],\n",
      "       [0.5801516 ],\n",
      "       [0.85901493],\n",
      "       [1.14635256]]), array([[2.0286601 ],\n",
      "       [0.34921223],\n",
      "       [1.72004117],\n",
      "       [0.70553828]]), array([[1.9202192 ],\n",
      "       [0.08577938],\n",
      "       [2.47992527],\n",
      "       [0.20401225]]), array([[ 2.75582961],\n",
      "       [-0.10898376],\n",
      "       [ 2.77927257],\n",
      "       [-0.132578  ]]), array([[ 3.13941842],\n",
      "       [-0.13704602],\n",
      "       [ 3.1458098 ],\n",
      "       [-0.09369564]]), array([[ 3.31969676],\n",
      "       [-0.02798967],\n",
      "       [ 4.89577066],\n",
      "       [ 0.31221875]]), array([[4.42346488],\n",
      "       [0.17044613],\n",
      "       [8.59961764],\n",
      "       [0.97116665]]), array([[ 4.73716035],\n",
      "       [ 0.36322882],\n",
      "       [10.82311828],\n",
      "       [ 2.06960243]])]\n"
     ]
    }
   ],
   "source": [
    "print h"
   ]
  },
  {
   "cell_type": "code",
   "execution_count": 16,
   "metadata": {},
   "outputs": [
    {
     "data": {
      "image/png": "[encoded data removed]",
      "text/plain": [
       "<Figure size 432x288 with 1 Axes>"
      ]
     },
     "metadata": {
      "needs_background": "light"
     },
     "output_type": "display_data"
    }
   ],
   "source": [
    "for i in range(len(observations)):\n",
    "    plt.plot(observations[i][0],observations[i][1],'ro')\n",
    "    plt.plot(h[i][0],h[i][2],'kx')\n",
    "plt.show()"
   ]
  },
  {
   "cell_type": "code",
   "execution_count": null,
   "metadata": {},
   "outputs": [],
   "source": []
  }
 ],
 "metadata": {
  "kernelspec": {
   "display_name": "Python 2",
   "language": "python",
   "name": "python2"
  },
  "language_info": {
   "codemirror_mode": {
    "name": "ipython",
    "version": 2
   },
   "file_extension": ".py",
   "mimetype": "text/x-python",
   "name": "python",
   "nbconvert_exporter": "python",
   "pygments_lexer": "ipython2",
   "version": "2.7.15"
  }
 },
 "nbformat": 4,
 "nbformat_minor": 2
}
