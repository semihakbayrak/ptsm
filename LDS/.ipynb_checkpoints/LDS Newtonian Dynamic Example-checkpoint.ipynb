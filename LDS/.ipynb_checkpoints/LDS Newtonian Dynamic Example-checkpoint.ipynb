{
 "cells": [
  {
   "cell_type": "code",
   "execution_count": 1,
   "metadata": {},
   "outputs": [],
   "source": [
    "import numpy as np\n",
    "import matplotlib.pyplot as plt\n",
    "from lds import LDS\n",
    "\n",
    "import os, sys\n",
    "parentPath = os.path.abspath(\"..\")\n",
    "if parentPath not in sys.path:\n",
    "    sys.path.insert(0, parentPath)\n",
    "import utils"
   ]
  },
  {
   "cell_type": "markdown",
   "metadata": {},
   "source": [
    "A 2D surface parallel to earth. Noisy observations are positions $x_{x}$, $x_{y}$. Hidden variables are true position values and velocities $v_{x}$, $v_{y}$. We assume constant velocity for this example."
   ]
  },
  {
   "cell_type": "markdown",
   "metadata": {},
   "source": [
    "$x_{x}(t+1) = x_{x}(t) + v_{x}(t) + \\eta_{x_{x}}(t)$\n",
    "\n",
    "$v_{x}(t+1)$ = $v_{x}(t) + \\eta_{v_x}(t)$"
   ]
  },
  {
   "cell_type": "markdown",
   "metadata": {},
   "source": [
    "$x_{y}(t+1) = x_{y}(t) + v_{y}(t) + \\eta_{x_{y}}(t)$\n",
    "\n",
    "$v_{y}(t+1)$ = $v_{y}(t) + \\eta_{v_y}(t)$"
   ]
  },
  {
   "cell_type": "code",
   "execution_count": 2,
   "metadata": {},
   "outputs": [],
   "source": [
    "A = np.array([[1,1,0,0],[0,1,0,0],[0,0,1,1],[0,0,0,1]])\n",
    "B = np.array([[1,0,0,0],[0,0,1,0]])\n",
    "pi_m = np.array([0,0.8,0,-0.3])\n",
    "S = 4\n",
    "O = 2\n",
    "pi_s = np.eye(S)\n",
    "E_h = np.eye(S)*0.1\n",
    "E_o = np.eye(O)*0.2"
   ]
  },
  {
   "cell_type": "code",
   "execution_count": 3,
   "metadata": {},
   "outputs": [],
   "source": [
    "lds = LDS(A,B,pi_m,pi_s,S,O,E_h,E_o)"
   ]
  },
  {
   "cell_type": "code",
   "execution_count": 4,
   "metadata": {},
   "outputs": [],
   "source": [
    "states,observations = lds.generate_data(10)"
   ]
  },
  {
   "cell_type": "code",
   "execution_count": 5,
   "metadata": {},
   "outputs": [
    {
     "name": "stdout",
     "output_type": "stream",
     "text": [
      "[array([-0.24677655,  0.31789023, -0.60709957, -1.0236756 ]), array([ 0.27554656,  0.2547979 , -1.58310248, -1.33856724]), array([ 0.70195489, -0.12352368, -2.23683208, -0.97854547]), array([ 0.49935471,  0.17163441, -3.30377616, -0.68155964]), array([ 0.80098615,  0.49683077, -4.23646342, -0.67605395]), array([ 0.7782441 ,  0.43418074, -4.91778244, -0.65209476]), array([ 1.352217  ,  1.09820049, -5.43706971, -0.96407081]), array([ 2.54279676,  0.86031361, -6.45425657, -1.42654782]), array([ 3.3048222 ,  1.05638688, -7.89280527, -1.00288291]), array([ 4.51017847,  0.92667001, -8.94724792, -0.72659096])]\n"
     ]
    }
   ],
   "source": [
    "print states"
   ]
  },
  {
   "cell_type": "code",
   "execution_count": 6,
   "metadata": {},
   "outputs": [
    {
     "name": "stdout",
     "output_type": "stream",
     "text": [
      "[array([-0.14168914, -0.85783851]), array([ 0.55699   , -1.31051494]), array([ 0.97267771, -3.01740646]), array([ 0.66380798, -3.38678404]), array([ 1.5292042 , -4.41593992]), array([ 0.38187508, -5.04252241]), array([ 1.23690402, -5.83417165]), array([ 2.5884909 , -6.89033476]), array([ 3.5157609 , -7.84357602]), array([ 4.58184258, -9.58723264])]\n"
     ]
    }
   ],
   "source": [
    "print observations"
   ]
  },
  {
   "cell_type": "code",
   "execution_count": 7,
   "metadata": {},
   "outputs": [
    {
     "data": {
      "image/png": "[encoded data removed]",
      "text/plain": [
       "<Figure size 432x288 with 1 Axes>"
      ]
     },
     "metadata": {
      "needs_background": "light"
     },
     "output_type": "display_data"
    }
   ],
   "source": [
    "for obs in observations:\n",
    "    plt.plot(obs[0],obs[1],'ro')\n",
    "plt.show()"
   ]
  },
  {
   "cell_type": "code",
   "execution_count": 8,
   "metadata": {},
   "outputs": [],
   "source": [
    "f,F = lds.filtering(observations)"
   ]
  },
  {
   "cell_type": "code",
   "execution_count": 9,
   "metadata": {},
   "outputs": [
    {
     "name": "stdout",
     "output_type": "stream",
     "text": [
      "[array([[-0.04722971],\n",
      "       [ 0.        ],\n",
      "       [-0.28594617],\n",
      "       [ 0.        ]]), array([[ 0.29803869],\n",
      "       [ 0.12947565],\n",
      "       [-0.87141404],\n",
      "       [-0.21955045]]), array([[ 0.81199798],\n",
      "       [ 0.30737107],\n",
      "       [-2.44961304],\n",
      "       [-0.84817888]]), array([[ 0.78093464],\n",
      "       [ 0.14832539],\n",
      "       [-3.36390379],\n",
      "       [-0.87924785]]), array([[ 1.3791674 ],\n",
      "       [ 0.35937174],\n",
      "       [-4.37272823],\n",
      "       [-0.94003073]]), array([[ 0.71967646],\n",
      "       [-0.11843716],\n",
      "       [-5.10980972],\n",
      "       [-0.84485505]]), array([[ 1.07877522],\n",
      "       [ 0.10558669],\n",
      "       [-5.86414568],\n",
      "       [-0.80239031]]), array([[ 2.2393202 ],\n",
      "       [ 0.60059276],\n",
      "       [-6.83468177],\n",
      "       [-0.88128745]]), array([[ 3.34771721],\n",
      "       [ 0.83887815],\n",
      "       [-7.8118477 ],\n",
      "       [-0.92627809]]), array([[ 4.4835717 ],\n",
      "       [ 0.97823476],\n",
      "       [-9.376118  ],\n",
      "       [-1.22565692]])]\n"
     ]
    }
   ],
   "source": [
    "print f"
   ]
  },
  {
   "cell_type": "code",
   "execution_count": 10,
   "metadata": {},
   "outputs": [
    {
     "data": {
      "image/png": "[encoded data removed]",
      "text/plain": [
       "<Figure size 432x288 with 1 Axes>"
      ]
     },
     "metadata": {
      "needs_background": "light"
     },
     "output_type": "display_data"
    }
   ],
   "source": [
    "for i in range(len(observations)):\n",
    "    plt.plot(observations[i][0],observations[i][1],'ro')\n",
    "    plt.plot(f[i][0],f[i][2],'bx')\n",
    "plt.show()"
   ]
  },
  {
   "cell_type": "code",
   "execution_count": 11,
   "metadata": {},
   "outputs": [],
   "source": [
    "g,G = lds.backward(observations)"
   ]
  },
  {
   "cell_type": "code",
   "execution_count": 12,
   "metadata": {},
   "outputs": [
    {
     "name": "stdout",
     "output_type": "stream",
     "text": [
      "[array([[ 4.4823692 ],\n",
      "       [-0.98675137],\n",
      "       [-9.37371247],\n",
      "       [ 1.24269398]]), array([[ 3.33606918],\n",
      "       [-0.84568965],\n",
      "       [-7.78854637],\n",
      "       [ 0.93990417]]), array([[ 2.20216705],\n",
      "       [-0.59088431],\n",
      "       [-6.76037862],\n",
      "       [ 0.86187137]]), array([[ 0.99156011],\n",
      "       [-0.04307196],\n",
      "       [-5.69003771],\n",
      "       [ 0.67759184]]), array([[ 0.55462126],\n",
      "       [ 0.30511227],\n",
      "       [-4.78105807],\n",
      "       [ 0.47304156]]), array([[ 1.13746136],\n",
      "       [ 0.05896564],\n",
      "       [-3.88765454],\n",
      "       [ 0.10048012]]), array([[ 0.5697605 ],\n",
      "       [ 0.62095186],\n",
      "       [-2.9420824 ],\n",
      "       [-0.65738722]]), array([[ 1.04734729],\n",
      "       [ 0.7517008 ],\n",
      "       [-2.92157078],\n",
      "       [-1.27563097]]), array([[ 1.89860752],\n",
      "       [ 0.67080876],\n",
      "       [-4.06942084],\n",
      "       [-1.37945295]]), array([[ 4.58184258],\n",
      "       [ 0.        ],\n",
      "       [-9.58723264],\n",
      "       [ 0.        ]])]\n"
     ]
    }
   ],
   "source": [
    "print g"
   ]
  },
  {
   "cell_type": "code",
   "execution_count": 13,
   "metadata": {},
   "outputs": [
    {
     "data": {
      "image/png": "[encoded data removed]",
      "text/plain": [
       "<Figure size 432x288 with 1 Axes>"
      ]
     },
     "metadata": {
      "needs_background": "light"
     },
     "output_type": "display_data"
    }
   ],
   "source": [
    "for i in range(len(observations)):\n",
    "    plt.plot(observations[i][0],observations[i][1],'ro')\n",
    "    plt.plot(g[i][0],g[i][2],'gx')\n",
    "plt.show()"
   ]
  },
  {
   "cell_type": "code",
   "execution_count": 14,
   "metadata": {},
   "outputs": [],
   "source": [
    "h,H = lds.smoothing(observations)"
   ]
  },
  {
   "cell_type": "code",
   "execution_count": 15,
   "metadata": {},
   "outputs": [
    {
     "name": "stdout",
     "output_type": "stream",
     "text": [
      "[array([[ 0.51019073],\n",
      "       [ 0.48728972],\n",
      "       [-1.5078679 ],\n",
      "       [-1.36008319]]), array([[ 0.72491868],\n",
      "       [ 0.34986737],\n",
      "       [-2.2528052 ],\n",
      "       [-1.35410284]]), array([[ 0.76859806],\n",
      "       [ 0.14595817],\n",
      "       [-3.0775231 ],\n",
      "       [-0.95128348]]), array([[ 0.67794379],\n",
      "       [ 0.10279717],\n",
      "       [-3.48559401],\n",
      "       [-0.5360123 ]]), array([[ 1.20041113],\n",
      "       [ 0.08606218],\n",
      "       [-3.94135946],\n",
      "       [-0.17299471]]), array([[ 0.72712055],\n",
      "       [ 0.13947908],\n",
      "       [-4.24170307],\n",
      "       [ 0.05020806]]), array([[ 1.04831012],\n",
      "       [ 0.29834664],\n",
      "       [-4.77885318],\n",
      "       [ 0.05846799]]), array([[ 1.95212729],\n",
      "       [ 0.38488009],\n",
      "       [-5.71893074],\n",
      "       [-0.13048371]]), array([[ 3.48985141],\n",
      "       [ 0.45903936],\n",
      "       [-8.08706464],\n",
      "       [-0.57514289]]), array([[ 4.4835717 ],\n",
      "       [ 0.97823476],\n",
      "       [-9.376118  ],\n",
      "       [-1.22565692]])]\n"
     ]
    }
   ],
   "source": [
    "print h"
   ]
  },
  {
   "cell_type": "code",
   "execution_count": 16,
   "metadata": {},
   "outputs": [
    {
     "data": {
      "image/png": "[encoded data removed]",
      "text/plain": [
       "<Figure size 432x288 with 1 Axes>"
      ]
     },
     "metadata": {
      "needs_background": "light"
     },
     "output_type": "display_data"
    }
   ],
   "source": [
    "for i in range(len(observations)):\n",
    "    plt.plot(observations[i][0],observations[i][1],'ro')\n",
    "    plt.plot(h[i][0],h[i][2],'kx')\n",
    "plt.show()"
   ]
  },
  {
   "cell_type": "code",
   "execution_count": 20,
   "metadata": {},
   "outputs": [],
   "source": [
    "A, B, pi_m, pi_s, E_h, E_o, h_list, H_list = lds.EM(observations,num_iterations=5)"
   ]
  },
  {
   "cell_type": "code",
   "execution_count": 22,
   "metadata": {},
   "outputs": [
    {
     "data": {
      "image/png": "[encoded data removed]",
      "text/plain": [
       "<Figure size 432x288 with 1 Axes>"
      ]
     },
     "metadata": {
      "needs_background": "light"
     },
     "output_type": "display_data"
    }
   ],
   "source": [
    "for i in range(len(observations)):\n",
    "    plt.plot(observations[i][0],observations[i][1],'ro')\n",
    "    plt.plot(h_list[i][0],h_list[i][2],'kx')\n",
    "plt.show()"
   ]
  },
  {
   "cell_type": "code",
   "execution_count": 23,
   "metadata": {},
   "outputs": [
    {
     "data": {
      "text/plain": [
       "array([[4.0263457 , 0.27806564, 0.77449367, 1.86371822],\n",
       "       [0.91994021, 0.10011637, 0.16523193, 0.4678012 ],\n",
       "       [1.49208254, 0.13203975, 1.67323079, 0.8714486 ],\n",
       "       [0.9329469 , 0.09500589, 0.39528778, 0.73792882]])"
      ]
     },
     "execution_count": 23,
     "metadata": {},
     "output_type": "execute_result"
    }
   ],
   "source": [
    "A"
   ]
  },
  {
   "cell_type": "code",
   "execution_count": null,
   "metadata": {},
   "outputs": [],
   "source": []
  }
 ],
 "metadata": {
  "kernelspec": {
   "display_name": "Python 2",
   "language": "python",
   "name": "python2"
  },
  "language_info": {
   "codemirror_mode": {
    "name": "ipython",
    "version": 2
   },
   "file_extension": ".py",
   "mimetype": "text/x-python",
   "name": "python",
   "nbconvert_exporter": "python",
   "pygments_lexer": "ipython2",
   "version": "2.7.15"
  }
 },
 "nbformat": 4,
 "nbformat_minor": 2
}
