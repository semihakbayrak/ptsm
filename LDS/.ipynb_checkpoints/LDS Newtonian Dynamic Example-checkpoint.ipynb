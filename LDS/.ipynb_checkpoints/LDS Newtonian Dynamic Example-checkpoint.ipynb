{
 "cells": [
  {
   "cell_type": "code",
   "execution_count": 1,
   "metadata": {},
   "outputs": [],
   "source": [
    "import numpy as np\n",
    "import matplotlib.pyplot as plt\n",
    "from lds import LDS\n",
    "\n",
    "import os, sys\n",
    "parentPath = os.path.abspath(\"..\")\n",
    "if parentPath not in sys.path:\n",
    "    sys.path.insert(0, parentPath)\n",
    "import utils"
   ]
  },
  {
   "cell_type": "markdown",
   "metadata": {},
   "source": [
    "A 2D surface parallel to earth. Noisy observations are positions $x_{x}$, $x_{y}$. Hidden variables are true position values and velocities $v_{x}$, $v_{y}$. We assume constant velocity for this example."
   ]
  },
  {
   "cell_type": "markdown",
   "metadata": {},
   "source": [
    "$x_{x}(t+1) = x_{x}(t) + v_{x}(t) + \\eta_{x_{x}}(t)$\n",
    "\n",
    "$v_{x}(t+1)$ = $v_{x}(t) + \\eta_{v_x}(t)$"
   ]
  },
  {
   "cell_type": "markdown",
   "metadata": {},
   "source": [
    "$x_{y}(t+1) = x_{y}(t) + v_{y}(t) + \\eta_{x_{y}}(t)$\n",
    "\n",
    "$v_{y}(t+1)$ = $v_{y}(t) + \\eta_{v_y}(t)$"
   ]
  },
  {
   "cell_type": "code",
   "execution_count": 2,
   "metadata": {},
   "outputs": [],
   "source": [
    "A = np.array([[1,1,0,0],[0,1,0,0],[0,0,1,1],[0,0,0,1]])\n",
    "B = np.array([[1,0,0,0],[0,0,1,0]])\n",
    "pi_m = np.array([0,0.8,0,-0.3])\n",
    "S = 4\n",
    "O = 2\n",
    "pi_s = np.eye(S)\n",
    "E_h = np.eye(S)*0.2\n",
    "E_o = np.eye(O)*0.2"
   ]
  },
  {
   "cell_type": "code",
   "execution_count": 3,
   "metadata": {},
   "outputs": [],
   "source": [
    "lds = LDS(A,B,pi_m,pi_s,S,O,E_h,E_o)"
   ]
  },
  {
   "cell_type": "code",
   "execution_count": 19,
   "metadata": {},
   "outputs": [],
   "source": [
    "states,observations = lds.generate_data(10)"
   ]
  },
  {
   "cell_type": "code",
   "execution_count": 20,
   "metadata": {},
   "outputs": [
    {
     "name": "stdout",
     "output_type": "stream",
     "text": [
      "[array([ 2.53468278,  1.39926667, -0.67413854,  0.23445361]), array([ 4.39100103,  1.81599255, -0.2311758 , -0.1486013 ]), array([ 6.48195696,  2.1701186 , -0.29471706, -0.8072286 ]), array([ 8.5377163 ,  1.16055976, -1.27838105, -0.60171796]), array([ 9.52765267,  1.34506069, -1.56476344,  0.14629951]), array([10.58957807,  1.51990197, -2.09785922, -0.01199736]), array([13.10888259,  1.50848318, -2.50004704, -0.98863394]), array([14.3249496 ,  1.74876752, -3.36399967, -0.89905247]), array([15.97677489,  1.60643355, -3.8440321 , -0.98527208]), array([17.48580348,  0.98679936, -5.23651418, -0.92383005])]\n"
     ]
    }
   ],
   "source": [
    "print states"
   ]
  },
  {
   "cell_type": "code",
   "execution_count": 21,
   "metadata": {},
   "outputs": [
    {
     "name": "stdout",
     "output_type": "stream",
     "text": [
      "[array([ 2.76078211, -0.49676505]), array([ 4.30757552, -1.00888101]), array([ 6.11896211, -0.08322951]), array([ 8.70267788, -1.51503785]), array([ 8.67467064, -1.16601815]), array([10.66367359, -1.84666005]), array([12.89467268, -2.9823401 ]), array([14.62275486, -2.93368478]), array([16.64188353, -4.01278512]), array([17.25144262, -6.04637278])]\n"
     ]
    }
   ],
   "source": [
    "print observations"
   ]
  },
  {
   "cell_type": "code",
   "execution_count": 22,
   "metadata": {},
   "outputs": [
    {
     "data": {
      "image/png": "[encoded data removed]",
      "text/plain": [
       "<Figure size 432x288 with 1 Axes>"
      ]
     },
     "metadata": {
      "needs_background": "light"
     },
     "output_type": "display_data"
    }
   ],
   "source": [
    "for obs, state in zip(observations, states):\n",
    "    plt.plot(obs[0],obs[1],'ro')\n",
    "    plt.plot(state[0],state[2],'kx')\n",
    "plt.show()"
   ]
  },
  {
   "cell_type": "code",
   "execution_count": 23,
   "metadata": {},
   "outputs": [],
   "source": [
    "f,F = lds.filtering(observations)"
   ]
  },
  {
   "cell_type": "code",
   "execution_count": 24,
   "metadata": {},
   "outputs": [
    {
     "name": "stdout",
     "output_type": "stream",
     "text": [
      "[array([[ 1.38039105],\n",
      "       [ 0.        ],\n",
      "       [-0.24838253],\n",
      "       [ 0.        ]]), array([[ 3.4712371 ],\n",
      "       [ 0.83633842],\n",
      "       [-0.79159573],\n",
      "       [-0.21728528]]), array([[ 5.75668479],\n",
      "       [ 1.56089305],\n",
      "       [-0.26835981],\n",
      "       [ 0.15297532]]), array([[ 8.45149393],\n",
      "       [ 2.14220447],\n",
      "       [-1.2612147 ],\n",
      "       [-0.43444397]]), array([[ 9.01729076],\n",
      "       [ 1.33269784],\n",
      "       [-1.26057932],\n",
      "       [-0.21102484]]), array([[10.60777292],\n",
      "       [ 1.46508056],\n",
      "       [-1.77982269],\n",
      "       [-0.36930758]]), array([[12.74825287],\n",
      "       [ 1.81194054],\n",
      "       [-2.83389087],\n",
      "       [-0.72097513]]), array([[14.61160912],\n",
      "       [ 1.83834634],\n",
      "       [-3.0443524 ],\n",
      "       [-0.4587884 ]]), array([[16.60769072],\n",
      "       [ 1.91935564],\n",
      "       [-3.9219898 ],\n",
      "       [-0.67389987]]), array([[17.47869616],\n",
      "       [ 1.38094585],\n",
      "       [-5.78796383],\n",
      "       [-1.28612315]])]\n"
     ]
    }
   ],
   "source": [
    "print f"
   ]
  },
  {
   "cell_type": "code",
   "execution_count": 25,
   "metadata": {},
   "outputs": [
    {
     "data": {
      "image/png": "[encoded data removed]",
      "text/plain": [
       "<Figure size 432x288 with 1 Axes>"
      ]
     },
     "metadata": {
      "needs_background": "light"
     },
     "output_type": "display_data"
    }
   ],
   "source": [
    "for i in range(len(observations)):\n",
    "    plt.plot(observations[i][0],observations[i][1],'ro')\n",
    "    plt.plot(f[i][0],f[i][2],'bx')\n",
    "plt.show()"
   ]
  },
  {
   "cell_type": "code",
   "execution_count": 26,
   "metadata": {},
   "outputs": [],
   "source": [
    "h,H = lds.smoothing(observations)"
   ]
  },
  {
   "cell_type": "code",
   "execution_count": 27,
   "metadata": {},
   "outputs": [
    {
     "name": "stdout",
     "output_type": "stream",
     "text": [
      "[array([[ 1.79322311],\n",
      "       [ 1.26614161],\n",
      "       [-0.3245681 ],\n",
      "       [-0.14818105]]), array([[ 3.88502884],\n",
      "       [ 1.7066191 ],\n",
      "       [-0.62512029],\n",
      "       [-0.14399096]]), array([[ 5.99476539],\n",
      "       [ 1.74397914],\n",
      "       [-0.53772166],\n",
      "       [-0.37119044]]), array([[ 8.01766527],\n",
      "       [ 1.50241845],\n",
      "       [-1.13201468],\n",
      "       [-0.37528736]]), array([[ 9.11399184],\n",
      "       [ 1.66694963],\n",
      "       [-1.34738144],\n",
      "       [-0.53930488]]), array([[10.8141708 ],\n",
      "       [ 1.79825148],\n",
      "       [-1.90812901],\n",
      "       [-0.68187972]]), array([[12.79614883],\n",
      "       [ 1.74582678],\n",
      "       [-2.67292037],\n",
      "       [-0.74154292]]), array([[14.62717831],\n",
      "       [ 1.60819939],\n",
      "       [-3.1879552 ],\n",
      "       [-1.0277142 ]]), array([[16.32500384],\n",
      "       [ 1.38094585],\n",
      "       [-4.24343174],\n",
      "       [-1.28612315]]), array([[17.47869616],\n",
      "       [ 1.38094585],\n",
      "       [-5.78796383],\n",
      "       [-1.28612315]])]\n"
     ]
    }
   ],
   "source": [
    "print h"
   ]
  },
  {
   "cell_type": "code",
   "execution_count": 28,
   "metadata": {},
   "outputs": [
    {
     "data": {
      "image/png": "[encoded data removed]",
      "text/plain": [
       "<Figure size 432x288 with 1 Axes>"
      ]
     },
     "metadata": {
      "needs_background": "light"
     },
     "output_type": "display_data"
    }
   ],
   "source": [
    "for i in range(len(observations)):\n",
    "    plt.plot(observations[i][0],observations[i][1],'ro')\n",
    "    plt.plot(h[i][0],h[i][2],'gx')\n",
    "plt.show()"
   ]
  },
  {
   "cell_type": "code",
   "execution_count": 33,
   "metadata": {},
   "outputs": [],
   "source": [
    "A, B, pi_m, pi_s, E_h, E_o, h_list, H_list = lds.EM(observations,num_iterations=10)"
   ]
  },
  {
   "cell_type": "code",
   "execution_count": 34,
   "metadata": {},
   "outputs": [
    {
     "data": {
      "image/png": "[encoded data removed]",
      "text/plain": [
       "<Figure size 432x288 with 1 Axes>"
      ]
     },
     "metadata": {
      "needs_background": "light"
     },
     "output_type": "display_data"
    }
   ],
   "source": [
    "for i in range(len(observations)):\n",
    "    plt.plot(observations[i][0],observations[i][1],'ro')\n",
    "    plt.plot(h_list[i][0],h_list[i][2],'kx')\n",
    "plt.show()"
   ]
  },
  {
   "cell_type": "code",
   "execution_count": 48,
   "metadata": {},
   "outputs": [
    {
     "data": {
      "text/plain": [
       "array([[-1.37480736,  1.37484798, -3.1015074 ,  3.95369021],\n",
       "       [-0.02104228,  1.52146975,  0.51968096,  0.67394769],\n",
       "       [ 1.20072019, -0.50066473,  2.3621857 , -2.75690776],\n",
       "       [-0.01634304,  0.86475338,  0.69550073,  1.19752813]])"
      ]
     },
     "execution_count": 48,
     "metadata": {},
     "output_type": "execute_result"
    }
   ],
   "source": [
    "A"
   ]
  },
  {
   "cell_type": "code",
   "execution_count": null,
   "metadata": {},
   "outputs": [],
   "source": []
  }
 ],
 "metadata": {
  "kernelspec": {
   "display_name": "Python 2",
   "language": "python",
   "name": "python2"
  },
  "language_info": {
   "codemirror_mode": {
    "name": "ipython",
    "version": 2
   },
   "file_extension": ".py",
   "mimetype": "text/x-python",
   "name": "python",
   "nbconvert_exporter": "python",
   "pygments_lexer": "ipython2",
   "version": "2.7.15"
  }
 },
 "nbformat": 4,
 "nbformat_minor": 2
}
