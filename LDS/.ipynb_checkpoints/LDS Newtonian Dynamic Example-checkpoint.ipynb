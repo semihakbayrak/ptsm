{
 "cells": [
  {
   "cell_type": "code",
   "execution_count": 1,
   "metadata": {},
   "outputs": [],
   "source": [
    "import numpy as np\n",
    "import matplotlib.pyplot as plt\n",
    "from lds import LDS\n",
    "\n",
    "import os, sys\n",
    "parentPath = os.path.abspath(\"..\")\n",
    "if parentPath not in sys.path:\n",
    "    sys.path.insert(0, parentPath)\n",
    "import utils"
   ]
  },
  {
   "cell_type": "markdown",
   "metadata": {},
   "source": [
    "A 2D surface parallel to earth. Noisy observations are positions $x_{x}$, $x_{y}$. Hidden variables are true position values and velocities $v_{x}$, $v_{y}$. We assume constant velocity for this example."
   ]
  },
  {
   "cell_type": "markdown",
   "metadata": {},
   "source": [
    "$x_{x}(t+1) = x_{x}(t) + v_{x}(t) + \\eta_{x_{x}}(t)$\n",
    "\n",
    "$v_{x}(t+1)$ = $v_{x}(t) + \\eta_{v_x}(t)$"
   ]
  },
  {
   "cell_type": "markdown",
   "metadata": {},
   "source": [
    "$x_{y}(t+1) = x_{y}(t) + v_{y}(t) + \\eta_{x_{y}}(t)$\n",
    "\n",
    "$v_{y}(t+1)$ = $v_{y}(t) + \\eta_{v_y}(t)$"
   ]
  },
  {
   "cell_type": "code",
   "execution_count": 2,
   "metadata": {},
   "outputs": [],
   "source": [
    "A = np.array([[1,1,0,0],[0,1,0,0],[0,0,1,1],[0,0,0,1]])\n",
    "B = np.array([[1,0,0,0],[0,0,1,0]])\n",
    "pi_m = np.array([0,0.8,0,-0.3])\n",
    "S = 4\n",
    "O = 2\n",
    "pi_s = np.eye(S)\n",
    "E_h = np.eye(S)\n",
    "E_o = np.eye(O)"
   ]
  },
  {
   "cell_type": "code",
   "execution_count": 3,
   "metadata": {},
   "outputs": [],
   "source": [
    "lds = LDS(A,B,pi_m,pi_s,S,O,E_h,E_o)"
   ]
  },
  {
   "cell_type": "code",
   "execution_count": 4,
   "metadata": {},
   "outputs": [],
   "source": [
    "states,observations = lds.generate_data(20)"
   ]
  },
  {
   "cell_type": "code",
   "execution_count": 5,
   "metadata": {},
   "outputs": [
    {
     "name": "stdout",
     "output_type": "stream",
     "text": [
      "[array([ 2.14788032,  0.82752333, -0.34377161, -2.43755328]), array([ 2.11562947, -1.3670815 , -2.58693261, -3.46553234]), array([ 0.95379274, -0.450569  , -7.16865565, -3.16152244]), array([  0.92975343,  -1.39016732, -10.63554806,  -3.19041291]), array([ -2.28885127,  -0.9315297 , -13.14798198,  -2.28778625]), array([ -4.81691305,  -1.15877811, -16.27878853,  -2.08992064]), array([ -6.24081524,  -3.03409202, -19.04227348,  -2.22634042]), array([ -9.86934509,  -3.41982978, -22.12274999,  -3.09151871]), array([-12.52989596,  -4.02558002, -24.67267852,  -2.02065606]), array([-15.98476568,  -5.84839903, -28.14515176,  -0.95574335]), array([-20.75666282,  -4.11997903, -28.93359043,  -1.89682059]), array([-26.57046082,  -3.74827978, -29.95685417,  -2.55328654]), array([-31.25295687,  -4.46099519, -33.51394814,  -2.35756154]), array([-35.59222658,  -5.14813685, -36.54084007,  -3.29340477]), array([-41.39384697,  -4.47119402, -37.53860904,  -4.66886826]), array([-44.60443433,  -5.72164235, -42.10627085,  -3.58774986]), array([-49.11887598,  -6.74491602, -45.65069456,  -3.91448298]), array([-56.96617472,  -8.64460034, -50.18144794,  -4.69096404]), array([-66.08707717,  -8.84178129, -53.91597298,  -4.40999858]), array([-74.05021368,  -8.32330072, -57.24127711,  -5.16243441])]\n"
     ]
    }
   ],
   "source": [
    "print states"
   ]
  },
  {
   "cell_type": "code",
   "execution_count": 6,
   "metadata": {},
   "outputs": [
    {
     "name": "stdout",
     "output_type": "stream",
     "text": [
      "[array([ 2.57000387, -0.05654305]), array([ 1.53538218, -3.89678686]), array([ 1.60715598, -7.86343037]), array([ -0.98681228, -10.4792771 ]), array([ -4.89167434, -12.24861271]), array([ -6.04531902, -16.58125708]), array([ -7.04637302, -17.74695698]), array([ -9.89060732, -20.99301844]), array([-11.73304088, -24.58984668]), array([-15.6373548 , -26.86965318]), array([-20.64575094, -28.41291537]), array([-25.0403398, -30.6931203]), array([-31.59334202, -33.15376802]), array([-35.72040376, -37.35212084]), array([-41.29407933, -37.64396543]), array([-46.6974562 , -42.92823223]), array([-48.54737114, -45.06938402]), array([-57.53698751, -51.69940189]), array([-64.83198502, -52.70320958]), array([-74.60065108, -56.32292705])]\n"
     ]
    }
   ],
   "source": [
    "print observations"
   ]
  },
  {
   "cell_type": "code",
   "execution_count": 7,
   "metadata": {},
   "outputs": [
    {
     "data": {
      "image/png": "[encoded data removed]",
      "text/plain": [
       "<matplotlib.figure.Figure at 0x109755c50>"
      ]
     },
     "metadata": {},
     "output_type": "display_data"
    }
   ],
   "source": [
    "for obs in observations:\n",
    "    plt.plot(obs[0],obs[1],'ro')\n",
    "plt.show()"
   ]
  },
  {
   "cell_type": "code",
   "execution_count": 8,
   "metadata": {},
   "outputs": [],
   "source": [
    "f,F = lds.filtering(observations)"
   ]
  },
  {
   "cell_type": "code",
   "execution_count": 9,
   "metadata": {},
   "outputs": [
    {
     "name": "stdout",
     "output_type": "stream",
     "text": [
      "[array([[ 1.28500194],\n",
      "       [ 0.        ],\n",
      "       [-0.02827152],\n",
      "       [ 0.        ]]), array([[ 1.46384496],\n",
      "       [ 0.07153721],\n",
      "       [-2.79149677],\n",
      "       [-1.1052901 ]]), array([[ 1.59280122],\n",
      "       [ 0.10024673],\n",
      "       [-7.07010167],\n",
      "       [-2.6919475 ]]), array([[ -0.50082727],\n",
      "       [ -1.02446145],\n",
      "       [-10.34920986],\n",
      "       [ -2.99296026]]), array([[ -4.29064527],\n",
      "       [ -2.44450941],\n",
      "       [-12.44385469],\n",
      "       [ -2.53166315]]), array([[ -6.16825214],\n",
      "       [ -2.15338193],\n",
      "       [-16.29510408],\n",
      "       [ -3.20932428]]), array([[ -7.27358051],\n",
      "       [ -1.61514063],\n",
      "       [-18.06007771],\n",
      "       [ -2.46755955]]), array([[ -9.71211455],\n",
      "       [ -2.03801443],\n",
      "       [-20.91010765],\n",
      "       [ -2.66398657]]), array([[-11.7360852 ],\n",
      "       [ -2.03080186],\n",
      "       [-24.40888602],\n",
      "       [ -3.09271695]]), array([[-15.30412403],\n",
      "       [ -2.82029322],\n",
      "       [-26.98223738],\n",
      "       [ -2.82598212]]), array([[-20.19656626],\n",
      "       [ -3.88450387],\n",
      "       [-28.66149383],\n",
      "       [ -2.23704876]]), array([[-24.86944246],\n",
      "       [ -4.28939475],\n",
      "       [-30.72971702],\n",
      "       [ -2.15034362]]), array([[-31.15962626],\n",
      "       [ -5.31695648],\n",
      "       [-33.10500607],\n",
      "       [ -2.2658707 ]]), array([[-35.85511976],\n",
      "       [ -4.99778661],\n",
      "       [-36.9991551 ],\n",
      "       [ -3.10211903]]), array([[-41.21548278],\n",
      "       [ -5.18399797],\n",
      "       [-38.08174379],\n",
      "       [ -2.06493218]]), array([[-46.64437081],\n",
      "       [ -5.30976818],\n",
      "       [-42.43268801],\n",
      "       [ -3.23897824]]), array([[-49.15429905],\n",
      "       [ -3.87183129],\n",
      "       [-45.17668275],\n",
      "       [ -2.98476548]]), array([[-56.73336212],\n",
      "       [ -5.77578489],\n",
      "       [-51.06910275],\n",
      "       [ -4.47807359]]), array([[-64.41816309],\n",
      "       [ -6.75621402],\n",
      "       [-53.20987246],\n",
      "       [ -3.27768516]]), array([[-73.99024808],\n",
      "       [ -8.2023841 ],\n",
      "       [-56.35225657],\n",
      "       [ -3.20819749]])]\n"
     ]
    }
   ],
   "source": [
    "print f"
   ]
  },
  {
   "cell_type": "code",
   "execution_count": 10,
   "metadata": {},
   "outputs": [
    {
     "data": {
      "image/png": "[encoded data removed]",
      "text/plain": [
       "<matplotlib.figure.Figure at 0x10f44be10>"
      ]
     },
     "metadata": {},
     "output_type": "display_data"
    }
   ],
   "source": [
    "for i in range(len(observations)):\n",
    "    plt.plot(observations[i][0],observations[i][1],'ro')\n",
    "    plt.plot(f[i][0],f[i][2],'bx')\n",
    "plt.show()"
   ]
  },
  {
   "cell_type": "code",
   "execution_count": 11,
   "metadata": {},
   "outputs": [],
   "source": [
    "g,G = lds.smoothing(observations)"
   ]
  },
  {
   "cell_type": "code",
   "execution_count": 12,
   "metadata": {},
   "outputs": [
    {
     "name": "stdout",
     "output_type": "stream",
     "text": [
      "[array([[ 1.4443739 ],\n",
      "       [-0.26918995],\n",
      "       [-0.57369696],\n",
      "       [-1.94062569]]), array([[ 1.49392789],\n",
      "       [-0.85712384],\n",
      "       [-3.60517354],\n",
      "       [-2.7904005 ]]), array([[ 0.91409371],\n",
      "       [-1.72234738],\n",
      "       [-7.1948116 ],\n",
      "       [-2.84093775]]), array([[ -1.22402628],\n",
      "       [ -2.17179831],\n",
      "       [-10.16636813],\n",
      "       [ -2.76085623]]), array([[ -4.04881121],\n",
      "       [ -1.96826264],\n",
      "       [-12.74493417],\n",
      "       [ -2.86306488]]), array([[ -5.82719732],\n",
      "       [ -1.95460348],\n",
      "       [-15.92203033],\n",
      "       [ -2.65124226]]), array([[ -7.37380258],\n",
      "       [ -2.34894255],\n",
      "       [-18.22807713],\n",
      "       [ -2.78461512]]), array([[ -9.64217646],\n",
      "       [ -2.82385029],\n",
      "       [-21.14861692],\n",
      "       [ -2.78206329]]), array([[-12.13702723],\n",
      "       [ -3.62775755],\n",
      "       [-24.22220337],\n",
      "       [ -2.48798831]]), array([[-15.8397716 ],\n",
      "       [ -4.356678  ],\n",
      "       [-26.63407153],\n",
      "       [ -2.27003348]]), array([[-20.47385321],\n",
      "       [ -4.80819483],\n",
      "       [-28.59240321],\n",
      "       [ -2.36378044]]), array([[-25.38755393],\n",
      "       [ -5.15420577],\n",
      "       [-30.82396969],\n",
      "       [ -2.58974136]]), array([[-30.99447971],\n",
      "       [ -5.0474967 ],\n",
      "       [-33.41234649],\n",
      "       [ -2.81706685]]), array([[-35.89583412],\n",
      "       [ -5.08692993],\n",
      "       [-36.48662725],\n",
      "       [ -2.78717843]]), array([[-41.0120521 ],\n",
      "       [ -5.09707509],\n",
      "       [-38.66552601],\n",
      "       [ -3.36556968]]), array([[-45.85638803],\n",
      "       [ -5.35995943],\n",
      "       [-42.4443766 ],\n",
      "       [ -3.53068003]]), array([[-50.12254012],\n",
      "       [ -6.71665109],\n",
      "       [-45.9044819 ],\n",
      "       [ -3.7663651 ]]), array([[-57.32055287],\n",
      "       [ -7.5919811 ],\n",
      "       [-50.43537016],\n",
      "       [ -3.23752701]]), array([[-65.17746099],\n",
      "       [ -8.2023841 ],\n",
      "       [-53.17338861],\n",
      "       [ -3.20819749]]), array([[-73.99024808],\n",
      "       [ -8.2023841 ],\n",
      "       [-56.35225657],\n",
      "       [ -3.20819749]])]\n"
     ]
    }
   ],
   "source": [
    "print g"
   ]
  },
  {
   "cell_type": "code",
   "execution_count": 13,
   "metadata": {},
   "outputs": [
    {
     "data": {
      "image/png": "[encoded data removed]",
      "text/plain": [
       "<matplotlib.figure.Figure at 0x10f40b650>"
      ]
     },
     "metadata": {},
     "output_type": "display_data"
    }
   ],
   "source": [
    "for i in range(len(observations)):\n",
    "    plt.plot(observations[i][0],observations[i][1],'ro')\n",
    "    plt.plot(g[i][0],g[i][2],'gx')\n",
    "plt.show()"
   ]
  },
  {
   "cell_type": "code",
   "execution_count": null,
   "metadata": {},
   "outputs": [],
   "source": []
  }
 ],
 "metadata": {
  "kernelspec": {
   "display_name": "Python 2",
   "language": "python",
   "name": "python2"
  },
  "language_info": {
   "codemirror_mode": {
    "name": "ipython",
    "version": 2
   },
   "file_extension": ".py",
   "mimetype": "text/x-python",
   "name": "python",
   "nbconvert_exporter": "python",
   "pygments_lexer": "ipython2",
   "version": "2.7.14"
  }
 },
 "nbformat": 4,
 "nbformat_minor": 2
}
