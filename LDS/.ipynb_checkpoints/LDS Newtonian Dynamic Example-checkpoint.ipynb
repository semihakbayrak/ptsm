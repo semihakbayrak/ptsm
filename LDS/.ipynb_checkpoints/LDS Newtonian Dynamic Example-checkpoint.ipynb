{
 "cells": [
  {
   "cell_type": "code",
   "execution_count": 1,
   "metadata": {},
   "outputs": [],
   "source": [
    "import numpy as np\n",
    "import matplotlib.pyplot as plt\n",
    "from lds import LDS\n",
    "\n",
    "import os, sys\n",
    "parentPath = os.path.abspath(\"..\")\n",
    "if parentPath not in sys.path:\n",
    "    sys.path.insert(0, parentPath)\n",
    "import utils"
   ]
  },
  {
   "cell_type": "markdown",
   "metadata": {},
   "source": [
    "A 2D surface parallel to earth. Noisy observations are positions $x_{x}$, $x_{y}$. Hidden variables are true position values and velocities $v_{x}$, $v_{y}$. We assume constant velocity for this example."
   ]
  },
  {
   "cell_type": "markdown",
   "metadata": {},
   "source": [
    "$x_{x}(t+1) = x_{x}(t) + v_{x}(t) + \\eta_{x_{x}}(t)$\n",
    "\n",
    "$v_{x}(t+1)$ = $v_{x}(t) + \\eta_{v_x}(t)$"
   ]
  },
  {
   "cell_type": "markdown",
   "metadata": {},
   "source": [
    "$x_{y}(t+1) = x_{y}(t) + v_{y}(t) + \\eta_{x_{y}}(t)$\n",
    "\n",
    "$v_{y}(t+1)$ = $v_{y}(t) + \\eta_{v_y}(t)$"
   ]
  },
  {
   "cell_type": "code",
   "execution_count": 2,
   "metadata": {},
   "outputs": [],
   "source": [
    "A = np.array([[1,1,0,0],[0,1,0,0],[0,0,1,1],[0,0,0,1]])\n",
    "B = np.array([[1,0,0,0],[0,0,1,0]])\n",
    "pi_m = np.array([0,0.8,0,-0.3])\n",
    "S = 4\n",
    "O = 2\n",
    "pi_s = np.eye(S)\n",
    "E_h = np.eye(S)*0.2\n",
    "E_o = np.eye(O)*0.2"
   ]
  },
  {
   "cell_type": "code",
   "execution_count": 3,
   "metadata": {},
   "outputs": [],
   "source": [
    "lds = LDS(A,B,pi_m,pi_s,S,O,E_h,E_o)"
   ]
  },
  {
   "cell_type": "code",
   "execution_count": 4,
   "metadata": {},
   "outputs": [],
   "source": [
    "states,observations = lds.generate_data(10)"
   ]
  },
  {
   "cell_type": "code",
   "execution_count": 5,
   "metadata": {},
   "outputs": [
    {
     "name": "stdout",
     "output_type": "stream",
     "text": [
      "[array([-2.95754111,  1.47730382,  1.8574816 , -1.22131284]), array([-1.69336103,  2.02910827,  0.98062813, -1.31670369]), array([ 0.41080534,  1.96413787,  0.01166576, -1.39275891]), array([ 2.52717941,  1.76669855, -1.2983454 , -0.94857243]), array([ 4.49878911,  2.59740892, -2.42056604, -0.90762079]), array([ 6.98583504,  2.29131467, -3.2272748 , -1.12205949]), array([ 9.35172154,  1.64049809, -5.27197168, -1.48585399]), array([10.34519681,  2.12855089, -6.83324424, -2.57022512]), array([12.40550717,  1.44362753, -9.27431418, -2.78368104]), array([ 13.36751244,   1.94647979, -11.92653401,  -2.53287626])]\n"
     ]
    }
   ],
   "source": [
    "print states"
   ]
  },
  {
   "cell_type": "code",
   "execution_count": 6,
   "metadata": {},
   "outputs": [
    {
     "name": "stdout",
     "output_type": "stream",
     "text": [
      "[array([-3.43697835,  1.77843174]), array([-1.73420523,  0.41655373]), array([0.46599112, 0.42383033]), array([ 2.49586716, -0.82437904]), array([ 3.92809727, -2.01229659]), array([ 6.93300481, -3.03062227]), array([ 9.49270273, -5.15219498]), array([10.02654993, -6.68212072]), array([11.9765042 , -9.18774437]), array([ 13.9716067 , -11.33625343])]\n"
     ]
    }
   ],
   "source": [
    "print observations"
   ]
  },
  {
   "cell_type": "code",
   "execution_count": 7,
   "metadata": {},
   "outputs": [
    {
     "data": {
      "image/png": "[encoded data removed]",
      "text/plain": [
       "<Figure size 432x288 with 1 Axes>"
      ]
     },
     "metadata": {
      "needs_background": "light"
     },
     "output_type": "display_data"
    }
   ],
   "source": [
    "for obs, state in zip(observations, states):\n",
    "    plt.plot(obs[0],obs[1],'ro')\n",
    "    plt.plot(state[0],state[2],'kx')\n",
    "plt.show()"
   ]
  },
  {
   "cell_type": "code",
   "execution_count": 8,
   "metadata": {},
   "outputs": [],
   "source": [
    "f,F = lds.filtering(observations)"
   ]
  },
  {
   "cell_type": "code",
   "execution_count": 9,
   "metadata": {},
   "outputs": [
    {
     "name": "stdout",
     "output_type": "stream",
     "text": [
      "[array([[-1.71848918],\n",
      "       [ 0.        ],\n",
      "       [ 0.88921587],\n",
      "       [ 0.        ]]), array([[-1.72971493],\n",
      "       [-0.0044903 ],\n",
      "       [ 0.55160006],\n",
      "       [-0.13504633]]), array([[ 0.02595185],\n",
      "       [ 0.87558824],\n",
      "       [ 0.42237501],\n",
      "       [-0.13213568]]), array([[ 2.20674049],\n",
      "       [ 1.54470996],\n",
      "       [-0.62224617],\n",
      "       [-0.59992889]]), array([[ 3.89655903],\n",
      "       [ 1.61922518],\n",
      "       [-1.87122956],\n",
      "       [-0.93322714]]), array([[ 6.68044704],\n",
      "       [ 2.21732685],\n",
      "       [-2.99031812],\n",
      "       [-1.02867453]]), array([[ 9.38670695],\n",
      "       [ 2.46842467],\n",
      "       [-4.95029744],\n",
      "       [-1.506958  ]]), array([[10.35232408],\n",
      "       [ 1.69662115],\n",
      "       [-6.64205946],\n",
      "       [-1.60186862]]), array([[11.98940988],\n",
      "       [ 1.66604512],\n",
      "       [-9.01959945],\n",
      "       [-2.00023607]]), array([[ 13.9152831 ],\n",
      "       [  1.79948717],\n",
      "       [-11.2798824 ],\n",
      "       [ -2.13379048]])]\n"
     ]
    }
   ],
   "source": [
    "print f"
   ]
  },
  {
   "cell_type": "code",
   "execution_count": 10,
   "metadata": {},
   "outputs": [
    {
     "data": {
      "image/png": "[encoded data removed]",
      "text/plain": [
       "<Figure size 432x288 with 1 Axes>"
      ]
     },
     "metadata": {
      "needs_background": "light"
     },
     "output_type": "display_data"
    }
   ],
   "source": [
    "for i in range(len(observations)):\n",
    "    plt.plot(observations[i][0],observations[i][1],'ro')\n",
    "    plt.plot(f[i][0],f[i][2],'bx')\n",
    "plt.show()"
   ]
  },
  {
   "cell_type": "code",
   "execution_count": 11,
   "metadata": {},
   "outputs": [],
   "source": [
    "h,H = lds.smoothing(observations)"
   ]
  },
  {
   "cell_type": "code",
   "execution_count": 12,
   "metadata": {},
   "outputs": [
    {
     "name": "stdout",
     "output_type": "stream",
     "text": [
      "[array([[-1.77970606],\n",
      "       [ 0.60559156],\n",
      "       [ 0.87343645],\n",
      "       [-0.26644957]]), array([[-1.29654827],\n",
      "       [ 1.33361689],\n",
      "       [ 0.57542803],\n",
      "       [-0.5013403 ]]), array([[ 0.35229181],\n",
      "       [ 1.74641904],\n",
      "       [ 0.20140319],\n",
      "       [-0.86354649]]), array([[ 2.30023472],\n",
      "       [ 1.95769732],\n",
      "       [-0.75725498],\n",
      "       [-1.130641  ]]), array([[ 4.26382347],\n",
      "       [ 2.16308416],\n",
      "       [-1.9158836 ],\n",
      "       [-1.36974789]]), array([[ 6.76852526],\n",
      "       [ 2.02685338],\n",
      "       [-3.21720612],\n",
      "       [-1.67728015]]), array([[ 8.97251672],\n",
      "       [ 1.71348451],\n",
      "       [-5.01264476],\n",
      "       [-1.86665393]]), array([[10.34295331],\n",
      "       [ 1.74316357],\n",
      "       [-6.85790695],\n",
      "       [-2.07741945]]), array([[12.05947234],\n",
      "       [ 1.79948717],\n",
      "       [-9.0897209 ],\n",
      "       [-2.13379048]]), array([[ 13.9152831 ],\n",
      "       [  1.79948717],\n",
      "       [-11.2798824 ],\n",
      "       [ -2.13379048]])]\n"
     ]
    }
   ],
   "source": [
    "print h"
   ]
  },
  {
   "cell_type": "code",
   "execution_count": 13,
   "metadata": {},
   "outputs": [
    {
     "data": {
      "image/png": "[encoded data removed]",
      "text/plain": [
       "<Figure size 432x288 with 1 Axes>"
      ]
     },
     "metadata": {
      "needs_background": "light"
     },
     "output_type": "display_data"
    }
   ],
   "source": [
    "for i in range(len(observations)):\n",
    "    plt.plot(observations[i][0],observations[i][1],'ro')\n",
    "    plt.plot(h[i][0],h[i][2],'gx')\n",
    "plt.show()"
   ]
  },
  {
   "cell_type": "code",
   "execution_count": 18,
   "metadata": {},
   "outputs": [],
   "source": [
    "A, B, pi_m, pi_s, E_h, E_o, h_list, H_list = lds.EM(observations,num_iterations=5)"
   ]
  },
  {
   "cell_type": "code",
   "execution_count": 19,
   "metadata": {},
   "outputs": [
    {
     "data": {
      "image/png": "[encoded data removed]",
      "text/plain": [
       "<Figure size 432x288 with 1 Axes>"
      ]
     },
     "metadata": {
      "needs_background": "light"
     },
     "output_type": "display_data"
    }
   ],
   "source": [
    "for i in range(len(observations)):\n",
    "    plt.plot(observations[i][0],observations[i][1],'ro')\n",
    "    plt.plot(h_list[i][0],h_list[i][2],'kx')\n",
    "plt.show()"
   ]
  },
  {
   "cell_type": "code",
   "execution_count": 20,
   "metadata": {},
   "outputs": [
    {
     "data": {
      "text/plain": [
       "array([[ 1.16218708,  1.13225716,  0.579877  , -0.31690521],\n",
       "       [-0.3158156 ,  1.2660204 , -0.37503558, -0.1563566 ],\n",
       "       [-0.59950738, -0.16356812,  0.12359275,  0.1950955 ],\n",
       "       [-0.33792793, -0.13670356, -0.42698239,  0.24161205]])"
      ]
     },
     "execution_count": 20,
     "metadata": {},
     "output_type": "execute_result"
    }
   ],
   "source": [
    "A"
   ]
  },
  {
   "cell_type": "code",
   "execution_count": null,
   "metadata": {},
   "outputs": [],
   "source": []
  }
 ],
 "metadata": {
  "kernelspec": {
   "display_name": "Python 2",
   "language": "python",
   "name": "python2"
  },
  "language_info": {
   "codemirror_mode": {
    "name": "ipython",
    "version": 2
   },
   "file_extension": ".py",
   "mimetype": "text/x-python",
   "name": "python",
   "nbconvert_exporter": "python",
   "pygments_lexer": "ipython2",
   "version": "2.7.15"
  }
 },
 "nbformat": 4,
 "nbformat_minor": 2
}
